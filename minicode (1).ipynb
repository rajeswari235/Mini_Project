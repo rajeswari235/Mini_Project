{
 "cells": [
  {
   "cell_type": "code",
   "execution_count": 147,
   "metadata": {
    "colab": {
     "base_uri": "https://localhost:8080/"
    },
    "id": "XPhss2a_2yWJ",
    "outputId": "5a104aab-b6b4-452a-b193-392c5dc6afad"
   },
   "outputs": [
    {
     "name": "stdout",
     "output_type": "stream",
     "text": [
      "\u001b[31mERROR: Could not find a version that satisfies the requirement keras.layers.normalization (from versions: none)\u001b[0m\u001b[31m\n",
      "\u001b[0m\u001b[31mERROR: No matching distribution found for keras.layers.normalization\u001b[0m\u001b[31m\n",
      "\u001b[0m"
     ]
    }
   ],
   "source": [
    "pip install keras.layers.normalization"
   ]
  },
  {
   "cell_type": "code",
   "execution_count": 148,
   "metadata": {
    "_cell_guid": "b1076dfc-b9ad-4769-8c92-a6c4dae69d19",
    "_uuid": "8f2839f25d086af736a60e9eeb907d3b93b6e0e5",
    "execution": {
     "iopub.execute_input": "2021-04-30T14:16:04.614406Z",
     "iopub.status.busy": "2021-04-30T14:16:04.613726Z",
     "iopub.status.idle": "2021-04-30T14:16:10.752211Z",
     "shell.execute_reply": "2021-04-30T14:16:10.752899Z"
    },
    "id": "R23LzyhD2Ii7",
    "papermill": {
     "duration": 6.16737,
     "end_time": "2021-04-30T14:16:10.753289",
     "exception": false,
     "start_time": "2021-04-30T14:16:04.585919",
     "status": "completed"
    },
    "tags": []
   },
   "outputs": [],
   "source": [
    "import numpy as np # linear algebra\n",
    "import pandas as pd # data processing, CSV file I/O (e.g. pd.read_csv)\n",
    "\n",
    "from nltk.stem.wordnet import WordNetLemmatizer\n",
    "from nltk import pos_tag\n",
    "from nltk.corpus import wordnet\n",
    "from nltk.corpus import stopwords\n",
    "from nltk.stem.wordnet import WordNetLemmatizer\n",
    "from tensorflow.keras.preprocessing.text import Tokenizer\n",
    "from tensorflow.keras.preprocessing.sequence import pad_sequences\n",
    "\n",
    "import tensorflow as tf\n",
    "from tensorflow.keras.models import Sequential\n",
    "from tensorflow.keras.callbacks import EarlyStopping\n",
    "from keras.callbacks import ModelCheckpoint, ReduceLROnPlateau\n",
    "from keras.layers import BatchNormalization\n",
    "from tensorflow.keras.preprocessing.text import Tokenizer\n",
    "from tensorflow.keras.layers import LSTM, Dense, Bidirectional\n",
    "from tensorflow.keras.layers import Dropout, SpatialDropout1D, TimeDistributed,Flatten, GlobalMaxPool1D\n",
    "from tensorflow.keras.layers import Embedding\n",
    "from keras.layers import multiply\n",
    "import seaborn as sns\n",
    "import matplotlib.pyplot as plt\n",
    "\n",
    "import re\n",
    "from tqdm import tqdm\n",
    "from sklearn.model_selection import train_test_split"
   ]
  },
  {
   "cell_type": "code",
   "execution_count": 11,
   "metadata": {
    "execution": {
     "iopub.execute_input": "2021-04-30T14:16:10.820845Z",
     "iopub.status.busy": "2021-04-30T14:16:10.820178Z",
     "iopub.status.idle": "2021-04-30T14:16:27.096809Z",
     "shell.execute_reply": "2021-04-30T14:16:27.096322Z"
    },
    "id": "WMFiR8n62IjC",
    "papermill": {
     "duration": 16.314049,
     "end_time": "2021-04-30T14:16:27.096947",
     "exception": false,
     "start_time": "2021-04-30T14:16:10.782898",
     "status": "completed"
    },
    "tags": []
   },
   "outputs": [],
   "source": [
    "train_data = pd.read_csv(\"/content/drive/MyDrive/questions_cleaned.csv\")\n",
    "test_data = pd.read_csv(\"/content/drive/MyDrive/questions.csv\")"
   ]
  },
  {
   "cell_type": "code",
   "execution_count": 12,
   "metadata": {
    "colab": {
     "base_uri": "https://localhost:8080/",
     "height": 293
    },
    "execution": {
     "iopub.execute_input": "2021-04-30T14:16:27.152767Z",
     "iopub.status.busy": "2021-04-30T14:16:27.152089Z",
     "iopub.status.idle": "2021-04-30T14:16:27.160647Z",
     "shell.execute_reply": "2021-04-30T14:16:27.161060Z"
    },
    "id": "ks19rWmt2IjE",
    "outputId": "78b55081-2c8f-41e1-be75-fce53bb8e13b",
    "papermill": {
     "duration": 0.04382,
     "end_time": "2021-04-30T14:16:27.161185",
     "exception": false,
     "start_time": "2021-04-30T14:16:27.117365",
     "status": "completed"
    },
    "tags": []
   },
   "outputs": [
    {
     "data": {
      "application/vnd.google.colaboratory.intrinsic+json": {
       "summary": "{\n  \"name\": \"train_data\",\n  \"rows\": 7227,\n  \"fields\": [\n    {\n      \"column\": \"id\",\n      \"properties\": {\n        \"dtype\": \"number\",\n        \"std\": 2086,\n        \"min\": 0,\n        \"max\": 7226,\n        \"num_unique_values\": 7227,\n        \"samples\": [\n          2020,\n          6955,\n          4689\n        ],\n        \"semantic_type\": \"\",\n        \"description\": \"\"\n      }\n    },\n    {\n      \"column\": \"qid1\",\n      \"properties\": {\n        \"dtype\": \"number\",\n        \"std\": 4168,\n        \"min\": 1,\n        \"max\": 14434,\n        \"num_unique_values\": 7224,\n        \"samples\": [\n          3187,\n          13892,\n          3581\n        ],\n        \"semantic_type\": \"\",\n        \"description\": \"\"\n      }\n    },\n    {\n      \"column\": \"qid2\",\n      \"properties\": {\n        \"dtype\": \"number\",\n        \"std\": 4166,\n        \"min\": 2,\n        \"max\": 14435,\n        \"num_unique_values\": 7219,\n        \"samples\": [\n          618,\n          764,\n          9872\n        ],\n        \"semantic_type\": \"\",\n        \"description\": \"\"\n      }\n    },\n    {\n      \"column\": \"question1\",\n      \"properties\": {\n        \"dtype\": \"string\",\n        \"num_unique_values\": 7132,\n        \"samples\": [\n          \"How many Champions are there in League of Legends?\",\n          \"What side dishes go well with hamburgers?\",\n          \"What do you struggle with most in your life?\"\n        ],\n        \"semantic_type\": \"\",\n        \"description\": \"\"\n      }\n    },\n    {\n      \"column\": \"question2\",\n      \"properties\": {\n        \"dtype\": \"string\",\n        \"num_unique_values\": 7108,\n        \"samples\": [\n          \"What is your best hollywood movie?\",\n          \"Why is image compression important?\",\n          \"If a guy knows his girlfriend is going through something and he acts like he doesn't have much sympathy about it and then his girlfriend gets the feeling that he's cold hearted, what do you do?\"\n        ],\n        \"semantic_type\": \"\",\n        \"description\": \"\"\n      }\n    },\n    {\n      \"column\": \"is_duplicate\",\n      \"properties\": {\n        \"dtype\": \"number\",\n        \"std\": 0.48423671602788537,\n        \"min\": 0.0,\n        \"max\": 1.0,\n        \"num_unique_values\": 2,\n        \"samples\": [\n          1.0,\n          0.0\n        ],\n        \"semantic_type\": \"\",\n        \"description\": \"\"\n      }\n    }\n  ]\n}",
       "type": "dataframe",
       "variable_name": "train_data"
      },
      "text/html": [
       "\n",
       "  <div id=\"df-5d670e85-26c7-445b-a04d-4fab9bcceb99\" class=\"colab-df-container\">\n",
       "    <div>\n",
       "<style scoped>\n",
       "    .dataframe tbody tr th:only-of-type {\n",
       "        vertical-align: middle;\n",
       "    }\n",
       "\n",
       "    .dataframe tbody tr th {\n",
       "        vertical-align: top;\n",
       "    }\n",
       "\n",
       "    .dataframe thead th {\n",
       "        text-align: right;\n",
       "    }\n",
       "</style>\n",
       "<table border=\"1\" class=\"dataframe\">\n",
       "  <thead>\n",
       "    <tr style=\"text-align: right;\">\n",
       "      <th></th>\n",
       "      <th>id</th>\n",
       "      <th>qid1</th>\n",
       "      <th>qid2</th>\n",
       "      <th>question1</th>\n",
       "      <th>question2</th>\n",
       "      <th>is_duplicate</th>\n",
       "    </tr>\n",
       "  </thead>\n",
       "  <tbody>\n",
       "    <tr>\n",
       "      <th>0</th>\n",
       "      <td>0</td>\n",
       "      <td>1</td>\n",
       "      <td>2</td>\n",
       "      <td>What is the step by step guide to invest in sh...</td>\n",
       "      <td>What is the step by step guide to invest in sh...</td>\n",
       "      <td>0.0</td>\n",
       "    </tr>\n",
       "    <tr>\n",
       "      <th>1</th>\n",
       "      <td>1</td>\n",
       "      <td>3</td>\n",
       "      <td>4</td>\n",
       "      <td>What is the story of Kohinoor (Koh-i-Noor) Dia...</td>\n",
       "      <td>What would happen if the Indian government sto...</td>\n",
       "      <td>0.0</td>\n",
       "    </tr>\n",
       "    <tr>\n",
       "      <th>2</th>\n",
       "      <td>2</td>\n",
       "      <td>5</td>\n",
       "      <td>6</td>\n",
       "      <td>How can I increase the speed of my internet co...</td>\n",
       "      <td>How can Internet speed be increased by hacking...</td>\n",
       "      <td>0.0</td>\n",
       "    </tr>\n",
       "    <tr>\n",
       "      <th>3</th>\n",
       "      <td>3</td>\n",
       "      <td>7</td>\n",
       "      <td>8</td>\n",
       "      <td>Why am I mentally very lonely? How can I solve...</td>\n",
       "      <td>Find the remainder when [math]23^{24}[/math] i...</td>\n",
       "      <td>0.0</td>\n",
       "    </tr>\n",
       "    <tr>\n",
       "      <th>4</th>\n",
       "      <td>4</td>\n",
       "      <td>9</td>\n",
       "      <td>10</td>\n",
       "      <td>Which one dissolve in water quikly sugar, salt...</td>\n",
       "      <td>Which fish would survive in salt water?</td>\n",
       "      <td>0.0</td>\n",
       "    </tr>\n",
       "  </tbody>\n",
       "</table>\n",
       "</div>\n",
       "    <div class=\"colab-df-buttons\">\n",
       "\n",
       "  <div class=\"colab-df-container\">\n",
       "    <button class=\"colab-df-convert\" onclick=\"convertToInteractive('df-5d670e85-26c7-445b-a04d-4fab9bcceb99')\"\n",
       "            title=\"Convert this dataframe to an interactive table.\"\n",
       "            style=\"display:none;\">\n",
       "\n",
       "  <svg xmlns=\"http://www.w3.org/2000/svg\" height=\"24px\" viewBox=\"0 -960 960 960\">\n",
       "    <path d=\"M120-120v-720h720v720H120Zm60-500h600v-160H180v160Zm220 220h160v-160H400v160Zm0 220h160v-160H400v160ZM180-400h160v-160H180v160Zm440 0h160v-160H620v160ZM180-180h160v-160H180v160Zm440 0h160v-160H620v160Z\"/>\n",
       "  </svg>\n",
       "    </button>\n",
       "\n",
       "  <style>\n",
       "    .colab-df-container {\n",
       "      display:flex;\n",
       "      gap: 12px;\n",
       "    }\n",
       "\n",
       "    .colab-df-convert {\n",
       "      background-color: #E8F0FE;\n",
       "      border: none;\n",
       "      border-radius: 50%;\n",
       "      cursor: pointer;\n",
       "      display: none;\n",
       "      fill: #1967D2;\n",
       "      height: 32px;\n",
       "      padding: 0 0 0 0;\n",
       "      width: 32px;\n",
       "    }\n",
       "\n",
       "    .colab-df-convert:hover {\n",
       "      background-color: #E2EBFA;\n",
       "      box-shadow: 0px 1px 2px rgba(60, 64, 67, 0.3), 0px 1px 3px 1px rgba(60, 64, 67, 0.15);\n",
       "      fill: #174EA6;\n",
       "    }\n",
       "\n",
       "    .colab-df-buttons div {\n",
       "      margin-bottom: 4px;\n",
       "    }\n",
       "\n",
       "    [theme=dark] .colab-df-convert {\n",
       "      background-color: #3B4455;\n",
       "      fill: #D2E3FC;\n",
       "    }\n",
       "\n",
       "    [theme=dark] .colab-df-convert:hover {\n",
       "      background-color: #434B5C;\n",
       "      box-shadow: 0px 1px 3px 1px rgba(0, 0, 0, 0.15);\n",
       "      filter: drop-shadow(0px 1px 2px rgba(0, 0, 0, 0.3));\n",
       "      fill: #FFFFFF;\n",
       "    }\n",
       "  </style>\n",
       "\n",
       "    <script>\n",
       "      const buttonEl =\n",
       "        document.querySelector('#df-5d670e85-26c7-445b-a04d-4fab9bcceb99 button.colab-df-convert');\n",
       "      buttonEl.style.display =\n",
       "        google.colab.kernel.accessAllowed ? 'block' : 'none';\n",
       "\n",
       "      async function convertToInteractive(key) {\n",
       "        const element = document.querySelector('#df-5d670e85-26c7-445b-a04d-4fab9bcceb99');\n",
       "        const dataTable =\n",
       "          await google.colab.kernel.invokeFunction('convertToInteractive',\n",
       "                                                    [key], {});\n",
       "        if (!dataTable) return;\n",
       "\n",
       "        const docLinkHtml = 'Like what you see? Visit the ' +\n",
       "          '<a target=\"_blank\" href=https://colab.research.google.com/notebooks/data_table.ipynb>data table notebook</a>'\n",
       "          + ' to learn more about interactive tables.';\n",
       "        element.innerHTML = '';\n",
       "        dataTable['output_type'] = 'display_data';\n",
       "        await google.colab.output.renderOutput(dataTable, element);\n",
       "        const docLink = document.createElement('div');\n",
       "        docLink.innerHTML = docLinkHtml;\n",
       "        element.appendChild(docLink);\n",
       "      }\n",
       "    </script>\n",
       "  </div>\n",
       "\n",
       "\n",
       "<div id=\"df-d6b7e901-b6dc-4891-ae89-5d3993f8ee79\">\n",
       "  <button class=\"colab-df-quickchart\" onclick=\"quickchart('df-d6b7e901-b6dc-4891-ae89-5d3993f8ee79')\"\n",
       "            title=\"Suggest charts\"\n",
       "            style=\"display:none;\">\n",
       "\n",
       "<svg xmlns=\"http://www.w3.org/2000/svg\" height=\"24px\"viewBox=\"0 0 24 24\"\n",
       "     width=\"24px\">\n",
       "    <g>\n",
       "        <path d=\"M19 3H5c-1.1 0-2 .9-2 2v14c0 1.1.9 2 2 2h14c1.1 0 2-.9 2-2V5c0-1.1-.9-2-2-2zM9 17H7v-7h2v7zm4 0h-2V7h2v10zm4 0h-2v-4h2v4z\"/>\n",
       "    </g>\n",
       "</svg>\n",
       "  </button>\n",
       "\n",
       "<style>\n",
       "  .colab-df-quickchart {\n",
       "      --bg-color: #E8F0FE;\n",
       "      --fill-color: #1967D2;\n",
       "      --hover-bg-color: #E2EBFA;\n",
       "      --hover-fill-color: #174EA6;\n",
       "      --disabled-fill-color: #AAA;\n",
       "      --disabled-bg-color: #DDD;\n",
       "  }\n",
       "\n",
       "  [theme=dark] .colab-df-quickchart {\n",
       "      --bg-color: #3B4455;\n",
       "      --fill-color: #D2E3FC;\n",
       "      --hover-bg-color: #434B5C;\n",
       "      --hover-fill-color: #FFFFFF;\n",
       "      --disabled-bg-color: #3B4455;\n",
       "      --disabled-fill-color: #666;\n",
       "  }\n",
       "\n",
       "  .colab-df-quickchart {\n",
       "    background-color: var(--bg-color);\n",
       "    border: none;\n",
       "    border-radius: 50%;\n",
       "    cursor: pointer;\n",
       "    display: none;\n",
       "    fill: var(--fill-color);\n",
       "    height: 32px;\n",
       "    padding: 0;\n",
       "    width: 32px;\n",
       "  }\n",
       "\n",
       "  .colab-df-quickchart:hover {\n",
       "    background-color: var(--hover-bg-color);\n",
       "    box-shadow: 0 1px 2px rgba(60, 64, 67, 0.3), 0 1px 3px 1px rgba(60, 64, 67, 0.15);\n",
       "    fill: var(--button-hover-fill-color);\n",
       "  }\n",
       "\n",
       "  .colab-df-quickchart-complete:disabled,\n",
       "  .colab-df-quickchart-complete:disabled:hover {\n",
       "    background-color: var(--disabled-bg-color);\n",
       "    fill: var(--disabled-fill-color);\n",
       "    box-shadow: none;\n",
       "  }\n",
       "\n",
       "  .colab-df-spinner {\n",
       "    border: 2px solid var(--fill-color);\n",
       "    border-color: transparent;\n",
       "    border-bottom-color: var(--fill-color);\n",
       "    animation:\n",
       "      spin 1s steps(1) infinite;\n",
       "  }\n",
       "\n",
       "  @keyframes spin {\n",
       "    0% {\n",
       "      border-color: transparent;\n",
       "      border-bottom-color: var(--fill-color);\n",
       "      border-left-color: var(--fill-color);\n",
       "    }\n",
       "    20% {\n",
       "      border-color: transparent;\n",
       "      border-left-color: var(--fill-color);\n",
       "      border-top-color: var(--fill-color);\n",
       "    }\n",
       "    30% {\n",
       "      border-color: transparent;\n",
       "      border-left-color: var(--fill-color);\n",
       "      border-top-color: var(--fill-color);\n",
       "      border-right-color: var(--fill-color);\n",
       "    }\n",
       "    40% {\n",
       "      border-color: transparent;\n",
       "      border-right-color: var(--fill-color);\n",
       "      border-top-color: var(--fill-color);\n",
       "    }\n",
       "    60% {\n",
       "      border-color: transparent;\n",
       "      border-right-color: var(--fill-color);\n",
       "    }\n",
       "    80% {\n",
       "      border-color: transparent;\n",
       "      border-right-color: var(--fill-color);\n",
       "      border-bottom-color: var(--fill-color);\n",
       "    }\n",
       "    90% {\n",
       "      border-color: transparent;\n",
       "      border-bottom-color: var(--fill-color);\n",
       "    }\n",
       "  }\n",
       "</style>\n",
       "\n",
       "  <script>\n",
       "    async function quickchart(key) {\n",
       "      const quickchartButtonEl =\n",
       "        document.querySelector('#' + key + ' button');\n",
       "      quickchartButtonEl.disabled = true;  // To prevent multiple clicks.\n",
       "      quickchartButtonEl.classList.add('colab-df-spinner');\n",
       "      try {\n",
       "        const charts = await google.colab.kernel.invokeFunction(\n",
       "            'suggestCharts', [key], {});\n",
       "      } catch (error) {\n",
       "        console.error('Error during call to suggestCharts:', error);\n",
       "      }\n",
       "      quickchartButtonEl.classList.remove('colab-df-spinner');\n",
       "      quickchartButtonEl.classList.add('colab-df-quickchart-complete');\n",
       "    }\n",
       "    (() => {\n",
       "      let quickchartButtonEl =\n",
       "        document.querySelector('#df-d6b7e901-b6dc-4891-ae89-5d3993f8ee79 button');\n",
       "      quickchartButtonEl.style.display =\n",
       "        google.colab.kernel.accessAllowed ? 'block' : 'none';\n",
       "    })();\n",
       "  </script>\n",
       "</div>\n",
       "\n",
       "    </div>\n",
       "  </div>\n"
      ],
      "text/plain": [
       "   id  qid1  qid2                                          question1  \\\n",
       "0   0     1     2  What is the step by step guide to invest in sh...   \n",
       "1   1     3     4  What is the story of Kohinoor (Koh-i-Noor) Dia...   \n",
       "2   2     5     6  How can I increase the speed of my internet co...   \n",
       "3   3     7     8  Why am I mentally very lonely? How can I solve...   \n",
       "4   4     9    10  Which one dissolve in water quikly sugar, salt...   \n",
       "\n",
       "                                           question2  is_duplicate  \n",
       "0  What is the step by step guide to invest in sh...           0.0  \n",
       "1  What would happen if the Indian government sto...           0.0  \n",
       "2  How can Internet speed be increased by hacking...           0.0  \n",
       "3  Find the remainder when [math]23^{24}[/math] i...           0.0  \n",
       "4            Which fish would survive in salt water?           0.0  "
      ]
     },
     "execution_count": 12,
     "metadata": {},
     "output_type": "execute_result"
    }
   ],
   "source": [
    "train_data.head()"
   ]
  },
  {
   "cell_type": "code",
   "execution_count": 13,
   "metadata": {
    "colab": {
     "base_uri": "https://localhost:8080/"
    },
    "id": "RqtKy5xP4NUD",
    "outputId": "88cc94cf-cbf9-4c4f-c8a9-9659c24b4095"
   },
   "outputs": [
    {
     "name": "stdout",
     "output_type": "stream",
     "text": [
      "Drive already mounted at /content/drive; to attempt to forcibly remount, call drive.mount(\"/content/drive\", force_remount=True).\n"
     ]
    }
   ],
   "source": [
    "from google.colab import drive\n",
    "drive.mount('/content/drive')"
   ]
  },
  {
   "cell_type": "code",
   "execution_count": 14,
   "metadata": {
    "colab": {
     "base_uri": "https://localhost:8080/",
     "height": 293
    },
    "execution": {
     "iopub.execute_input": "2021-04-30T14:16:27.210311Z",
     "iopub.status.busy": "2021-04-30T14:16:27.209489Z",
     "iopub.status.idle": "2021-04-30T14:16:27.213476Z",
     "shell.execute_reply": "2021-04-30T14:16:27.212954Z"
    },
    "id": "sO21SAGj2IjG",
    "outputId": "eb28628c-9a5e-4b6d-dbb7-679ed669a57c",
    "papermill": {
     "duration": 0.032209,
     "end_time": "2021-04-30T14:16:27.213588",
     "exception": false,
     "start_time": "2021-04-30T14:16:27.181379",
     "status": "completed"
    },
    "tags": []
   },
   "outputs": [
    {
     "data": {
      "application/vnd.google.colaboratory.intrinsic+json": {
       "type": "dataframe",
       "variable_name": "test_data"
      },
      "text/html": [
       "\n",
       "  <div id=\"df-e9cf60b5-3e57-43d7-98a2-2e22d02550a6\" class=\"colab-df-container\">\n",
       "    <div>\n",
       "<style scoped>\n",
       "    .dataframe tbody tr th:only-of-type {\n",
       "        vertical-align: middle;\n",
       "    }\n",
       "\n",
       "    .dataframe tbody tr th {\n",
       "        vertical-align: top;\n",
       "    }\n",
       "\n",
       "    .dataframe thead th {\n",
       "        text-align: right;\n",
       "    }\n",
       "</style>\n",
       "<table border=\"1\" class=\"dataframe\">\n",
       "  <thead>\n",
       "    <tr style=\"text-align: right;\">\n",
       "      <th></th>\n",
       "      <th>id</th>\n",
       "      <th>qid1</th>\n",
       "      <th>qid2</th>\n",
       "      <th>question1</th>\n",
       "      <th>question2</th>\n",
       "      <th>is_duplicate</th>\n",
       "    </tr>\n",
       "  </thead>\n",
       "  <tbody>\n",
       "    <tr>\n",
       "      <th>0</th>\n",
       "      <td>0</td>\n",
       "      <td>1</td>\n",
       "      <td>2</td>\n",
       "      <td>What is the step by step guide to invest in sh...</td>\n",
       "      <td>What is the step by step guide to invest in sh...</td>\n",
       "      <td>0</td>\n",
       "    </tr>\n",
       "    <tr>\n",
       "      <th>1</th>\n",
       "      <td>1</td>\n",
       "      <td>3</td>\n",
       "      <td>4</td>\n",
       "      <td>What is the story of Kohinoor (Koh-i-Noor) Dia...</td>\n",
       "      <td>What would happen if the Indian government sto...</td>\n",
       "      <td>0</td>\n",
       "    </tr>\n",
       "    <tr>\n",
       "      <th>2</th>\n",
       "      <td>2</td>\n",
       "      <td>5</td>\n",
       "      <td>6</td>\n",
       "      <td>How can I increase the speed of my internet co...</td>\n",
       "      <td>How can Internet speed be increased by hacking...</td>\n",
       "      <td>0</td>\n",
       "    </tr>\n",
       "    <tr>\n",
       "      <th>3</th>\n",
       "      <td>3</td>\n",
       "      <td>7</td>\n",
       "      <td>8</td>\n",
       "      <td>Why am I mentally very lonely? How can I solve...</td>\n",
       "      <td>Find the remainder when [math]23^{24}[/math] i...</td>\n",
       "      <td>0</td>\n",
       "    </tr>\n",
       "    <tr>\n",
       "      <th>4</th>\n",
       "      <td>4</td>\n",
       "      <td>9</td>\n",
       "      <td>10</td>\n",
       "      <td>Which one dissolve in water quikly sugar, salt...</td>\n",
       "      <td>Which fish would survive in salt water?</td>\n",
       "      <td>0</td>\n",
       "    </tr>\n",
       "  </tbody>\n",
       "</table>\n",
       "</div>\n",
       "    <div class=\"colab-df-buttons\">\n",
       "\n",
       "  <div class=\"colab-df-container\">\n",
       "    <button class=\"colab-df-convert\" onclick=\"convertToInteractive('df-e9cf60b5-3e57-43d7-98a2-2e22d02550a6')\"\n",
       "            title=\"Convert this dataframe to an interactive table.\"\n",
       "            style=\"display:none;\">\n",
       "\n",
       "  <svg xmlns=\"http://www.w3.org/2000/svg\" height=\"24px\" viewBox=\"0 -960 960 960\">\n",
       "    <path d=\"M120-120v-720h720v720H120Zm60-500h600v-160H180v160Zm220 220h160v-160H400v160Zm0 220h160v-160H400v160ZM180-400h160v-160H180v160Zm440 0h160v-160H620v160ZM180-180h160v-160H180v160Zm440 0h160v-160H620v160Z\"/>\n",
       "  </svg>\n",
       "    </button>\n",
       "\n",
       "  <style>\n",
       "    .colab-df-container {\n",
       "      display:flex;\n",
       "      gap: 12px;\n",
       "    }\n",
       "\n",
       "    .colab-df-convert {\n",
       "      background-color: #E8F0FE;\n",
       "      border: none;\n",
       "      border-radius: 50%;\n",
       "      cursor: pointer;\n",
       "      display: none;\n",
       "      fill: #1967D2;\n",
       "      height: 32px;\n",
       "      padding: 0 0 0 0;\n",
       "      width: 32px;\n",
       "    }\n",
       "\n",
       "    .colab-df-convert:hover {\n",
       "      background-color: #E2EBFA;\n",
       "      box-shadow: 0px 1px 2px rgba(60, 64, 67, 0.3), 0px 1px 3px 1px rgba(60, 64, 67, 0.15);\n",
       "      fill: #174EA6;\n",
       "    }\n",
       "\n",
       "    .colab-df-buttons div {\n",
       "      margin-bottom: 4px;\n",
       "    }\n",
       "\n",
       "    [theme=dark] .colab-df-convert {\n",
       "      background-color: #3B4455;\n",
       "      fill: #D2E3FC;\n",
       "    }\n",
       "\n",
       "    [theme=dark] .colab-df-convert:hover {\n",
       "      background-color: #434B5C;\n",
       "      box-shadow: 0px 1px 3px 1px rgba(0, 0, 0, 0.15);\n",
       "      filter: drop-shadow(0px 1px 2px rgba(0, 0, 0, 0.3));\n",
       "      fill: #FFFFFF;\n",
       "    }\n",
       "  </style>\n",
       "\n",
       "    <script>\n",
       "      const buttonEl =\n",
       "        document.querySelector('#df-e9cf60b5-3e57-43d7-98a2-2e22d02550a6 button.colab-df-convert');\n",
       "      buttonEl.style.display =\n",
       "        google.colab.kernel.accessAllowed ? 'block' : 'none';\n",
       "\n",
       "      async function convertToInteractive(key) {\n",
       "        const element = document.querySelector('#df-e9cf60b5-3e57-43d7-98a2-2e22d02550a6');\n",
       "        const dataTable =\n",
       "          await google.colab.kernel.invokeFunction('convertToInteractive',\n",
       "                                                    [key], {});\n",
       "        if (!dataTable) return;\n",
       "\n",
       "        const docLinkHtml = 'Like what you see? Visit the ' +\n",
       "          '<a target=\"_blank\" href=https://colab.research.google.com/notebooks/data_table.ipynb>data table notebook</a>'\n",
       "          + ' to learn more about interactive tables.';\n",
       "        element.innerHTML = '';\n",
       "        dataTable['output_type'] = 'display_data';\n",
       "        await google.colab.output.renderOutput(dataTable, element);\n",
       "        const docLink = document.createElement('div');\n",
       "        docLink.innerHTML = docLinkHtml;\n",
       "        element.appendChild(docLink);\n",
       "      }\n",
       "    </script>\n",
       "  </div>\n",
       "\n",
       "\n",
       "<div id=\"df-6f55d68b-7417-40f5-be90-c4e8581498d2\">\n",
       "  <button class=\"colab-df-quickchart\" onclick=\"quickchart('df-6f55d68b-7417-40f5-be90-c4e8581498d2')\"\n",
       "            title=\"Suggest charts\"\n",
       "            style=\"display:none;\">\n",
       "\n",
       "<svg xmlns=\"http://www.w3.org/2000/svg\" height=\"24px\"viewBox=\"0 0 24 24\"\n",
       "     width=\"24px\">\n",
       "    <g>\n",
       "        <path d=\"M19 3H5c-1.1 0-2 .9-2 2v14c0 1.1.9 2 2 2h14c1.1 0 2-.9 2-2V5c0-1.1-.9-2-2-2zM9 17H7v-7h2v7zm4 0h-2V7h2v10zm4 0h-2v-4h2v4z\"/>\n",
       "    </g>\n",
       "</svg>\n",
       "  </button>\n",
       "\n",
       "<style>\n",
       "  .colab-df-quickchart {\n",
       "      --bg-color: #E8F0FE;\n",
       "      --fill-color: #1967D2;\n",
       "      --hover-bg-color: #E2EBFA;\n",
       "      --hover-fill-color: #174EA6;\n",
       "      --disabled-fill-color: #AAA;\n",
       "      --disabled-bg-color: #DDD;\n",
       "  }\n",
       "\n",
       "  [theme=dark] .colab-df-quickchart {\n",
       "      --bg-color: #3B4455;\n",
       "      --fill-color: #D2E3FC;\n",
       "      --hover-bg-color: #434B5C;\n",
       "      --hover-fill-color: #FFFFFF;\n",
       "      --disabled-bg-color: #3B4455;\n",
       "      --disabled-fill-color: #666;\n",
       "  }\n",
       "\n",
       "  .colab-df-quickchart {\n",
       "    background-color: var(--bg-color);\n",
       "    border: none;\n",
       "    border-radius: 50%;\n",
       "    cursor: pointer;\n",
       "    display: none;\n",
       "    fill: var(--fill-color);\n",
       "    height: 32px;\n",
       "    padding: 0;\n",
       "    width: 32px;\n",
       "  }\n",
       "\n",
       "  .colab-df-quickchart:hover {\n",
       "    background-color: var(--hover-bg-color);\n",
       "    box-shadow: 0 1px 2px rgba(60, 64, 67, 0.3), 0 1px 3px 1px rgba(60, 64, 67, 0.15);\n",
       "    fill: var(--button-hover-fill-color);\n",
       "  }\n",
       "\n",
       "  .colab-df-quickchart-complete:disabled,\n",
       "  .colab-df-quickchart-complete:disabled:hover {\n",
       "    background-color: var(--disabled-bg-color);\n",
       "    fill: var(--disabled-fill-color);\n",
       "    box-shadow: none;\n",
       "  }\n",
       "\n",
       "  .colab-df-spinner {\n",
       "    border: 2px solid var(--fill-color);\n",
       "    border-color: transparent;\n",
       "    border-bottom-color: var(--fill-color);\n",
       "    animation:\n",
       "      spin 1s steps(1) infinite;\n",
       "  }\n",
       "\n",
       "  @keyframes spin {\n",
       "    0% {\n",
       "      border-color: transparent;\n",
       "      border-bottom-color: var(--fill-color);\n",
       "      border-left-color: var(--fill-color);\n",
       "    }\n",
       "    20% {\n",
       "      border-color: transparent;\n",
       "      border-left-color: var(--fill-color);\n",
       "      border-top-color: var(--fill-color);\n",
       "    }\n",
       "    30% {\n",
       "      border-color: transparent;\n",
       "      border-left-color: var(--fill-color);\n",
       "      border-top-color: var(--fill-color);\n",
       "      border-right-color: var(--fill-color);\n",
       "    }\n",
       "    40% {\n",
       "      border-color: transparent;\n",
       "      border-right-color: var(--fill-color);\n",
       "      border-top-color: var(--fill-color);\n",
       "    }\n",
       "    60% {\n",
       "      border-color: transparent;\n",
       "      border-right-color: var(--fill-color);\n",
       "    }\n",
       "    80% {\n",
       "      border-color: transparent;\n",
       "      border-right-color: var(--fill-color);\n",
       "      border-bottom-color: var(--fill-color);\n",
       "    }\n",
       "    90% {\n",
       "      border-color: transparent;\n",
       "      border-bottom-color: var(--fill-color);\n",
       "    }\n",
       "  }\n",
       "</style>\n",
       "\n",
       "  <script>\n",
       "    async function quickchart(key) {\n",
       "      const quickchartButtonEl =\n",
       "        document.querySelector('#' + key + ' button');\n",
       "      quickchartButtonEl.disabled = true;  // To prevent multiple clicks.\n",
       "      quickchartButtonEl.classList.add('colab-df-spinner');\n",
       "      try {\n",
       "        const charts = await google.colab.kernel.invokeFunction(\n",
       "            'suggestCharts', [key], {});\n",
       "      } catch (error) {\n",
       "        console.error('Error during call to suggestCharts:', error);\n",
       "      }\n",
       "      quickchartButtonEl.classList.remove('colab-df-spinner');\n",
       "      quickchartButtonEl.classList.add('colab-df-quickchart-complete');\n",
       "    }\n",
       "    (() => {\n",
       "      let quickchartButtonEl =\n",
       "        document.querySelector('#df-6f55d68b-7417-40f5-be90-c4e8581498d2 button');\n",
       "      quickchartButtonEl.style.display =\n",
       "        google.colab.kernel.accessAllowed ? 'block' : 'none';\n",
       "    })();\n",
       "  </script>\n",
       "</div>\n",
       "\n",
       "    </div>\n",
       "  </div>\n"
      ],
      "text/plain": [
       "   id  qid1  qid2                                          question1  \\\n",
       "0   0     1     2  What is the step by step guide to invest in sh...   \n",
       "1   1     3     4  What is the story of Kohinoor (Koh-i-Noor) Dia...   \n",
       "2   2     5     6  How can I increase the speed of my internet co...   \n",
       "3   3     7     8  Why am I mentally very lonely? How can I solve...   \n",
       "4   4     9    10  Which one dissolve in water quikly sugar, salt...   \n",
       "\n",
       "                                           question2  is_duplicate  \n",
       "0  What is the step by step guide to invest in sh...             0  \n",
       "1  What would happen if the Indian government sto...             0  \n",
       "2  How can Internet speed be increased by hacking...             0  \n",
       "3  Find the remainder when [math]23^{24}[/math] i...             0  \n",
       "4            Which fish would survive in salt water?             0  "
      ]
     },
     "execution_count": 14,
     "metadata": {},
     "output_type": "execute_result"
    }
   ],
   "source": [
    "test_data.head()"
   ]
  },
  {
   "cell_type": "code",
   "execution_count": 15,
   "metadata": {
    "execution": {
     "iopub.execute_input": "2021-04-30T14:16:27.259725Z",
     "iopub.status.busy": "2021-04-30T14:16:27.259017Z",
     "iopub.status.idle": "2021-04-30T14:16:27.420841Z",
     "shell.execute_reply": "2021-04-30T14:16:27.419498Z"
    },
    "id": "IW9zxXVT2IjH",
    "papermill": {
     "duration": 0.187181,
     "end_time": "2021-04-30T14:16:27.420975",
     "exception": false,
     "start_time": "2021-04-30T14:16:27.233794",
     "status": "completed"
    },
    "tags": []
   },
   "outputs": [],
   "source": [
    "train_data = train_data.sample(frac=0.1).reset_index(drop=True)\n",
    "test_data = test_data.sample(frac=0.01).reset_index(drop=True)"
   ]
  },
  {
   "cell_type": "code",
   "execution_count": 16,
   "metadata": {
    "colab": {
     "base_uri": "https://localhost:8080/"
    },
    "execution": {
     "iopub.execute_input": "2021-04-30T14:16:27.467014Z",
     "iopub.status.busy": "2021-04-30T14:16:27.466267Z",
     "iopub.status.idle": "2021-04-30T14:16:27.469840Z",
     "shell.execute_reply": "2021-04-30T14:16:27.469368Z"
    },
    "id": "X7TcbzSV2IjI",
    "outputId": "881c5038-a303-41ff-d4c1-e90607ba8789",
    "papermill": {
     "duration": 0.028122,
     "end_time": "2021-04-30T14:16:27.469946",
     "exception": false,
     "start_time": "2021-04-30T14:16:27.441824",
     "status": "completed"
    },
    "tags": []
   },
   "outputs": [
    {
     "data": {
      "text/plain": [
       "((723, 6), (4044, 6))"
      ]
     },
     "execution_count": 16,
     "metadata": {},
     "output_type": "execute_result"
    }
   ],
   "source": [
    "train_data.shape,test_data.shape"
   ]
  },
  {
   "cell_type": "code",
   "execution_count": 17,
   "metadata": {
    "colab": {
     "base_uri": "https://localhost:8080/",
     "height": 206
    },
    "execution": {
     "iopub.execute_input": "2021-04-30T14:16:27.517690Z",
     "iopub.status.busy": "2021-04-30T14:16:27.516441Z",
     "iopub.status.idle": "2021-04-30T14:16:27.533356Z",
     "shell.execute_reply": "2021-04-30T14:16:27.532922Z"
    },
    "id": "lv_uIeE32IjJ",
    "outputId": "64da961d-7cc1-482d-da53-fba0a309cee4",
    "papermill": {
     "duration": 0.042754,
     "end_time": "2021-04-30T14:16:27.533464",
     "exception": false,
     "start_time": "2021-04-30T14:16:27.490710",
     "status": "completed"
    },
    "tags": []
   },
   "outputs": [
    {
     "data": {
      "application/vnd.google.colaboratory.intrinsic+json": {
       "summary": "{\n  \"name\": \"train_data\",\n  \"rows\": 723,\n  \"fields\": [\n    {\n      \"column\": \"question1\",\n      \"properties\": {\n        \"dtype\": \"string\",\n        \"num_unique_values\": 723,\n        \"samples\": [\n          \"What would be the best way to control anger?\",\n          \"How do I get to the front page of Imgur?\",\n          \"Should I learn python or Java first?\"\n        ],\n        \"semantic_type\": \"\",\n        \"description\": \"\"\n      }\n    },\n    {\n      \"column\": \"question2\",\n      \"properties\": {\n        \"dtype\": \"string\",\n        \"num_unique_values\": 721,\n        \"samples\": [\n          \"What does it mean when on fb messenger says that someone used your number to reach you?\",\n          \"What books should I read before watching Game of Thrones?\",\n          \"How is it living off the grid in India ?\"\n        ],\n        \"semantic_type\": \"\",\n        \"description\": \"\"\n      }\n    },\n    {\n      \"column\": \"is_duplicate\",\n      \"properties\": {\n        \"dtype\": \"number\",\n        \"std\": 0.4910122343247072,\n        \"min\": 0.0,\n        \"max\": 1.0,\n        \"num_unique_values\": 2,\n        \"samples\": [\n          1.0,\n          0.0\n        ],\n        \"semantic_type\": \"\",\n        \"description\": \"\"\n      }\n    }\n  ]\n}",
       "type": "dataframe",
       "variable_name": "train_data"
      },
      "text/html": [
       "\n",
       "  <div id=\"df-0661c247-0fd1-44d0-b056-7b45bf26d38e\" class=\"colab-df-container\">\n",
       "    <div>\n",
       "<style scoped>\n",
       "    .dataframe tbody tr th:only-of-type {\n",
       "        vertical-align: middle;\n",
       "    }\n",
       "\n",
       "    .dataframe tbody tr th {\n",
       "        vertical-align: top;\n",
       "    }\n",
       "\n",
       "    .dataframe thead th {\n",
       "        text-align: right;\n",
       "    }\n",
       "</style>\n",
       "<table border=\"1\" class=\"dataframe\">\n",
       "  <thead>\n",
       "    <tr style=\"text-align: right;\">\n",
       "      <th></th>\n",
       "      <th>question1</th>\n",
       "      <th>question2</th>\n",
       "      <th>is_duplicate</th>\n",
       "    </tr>\n",
       "  </thead>\n",
       "  <tbody>\n",
       "    <tr>\n",
       "      <th>0</th>\n",
       "      <td>What is the mean of future budget?</td>\n",
       "      <td>What is the meaning of the future?</td>\n",
       "      <td>0.0</td>\n",
       "    </tr>\n",
       "    <tr>\n",
       "      <th>1</th>\n",
       "      <td>Why do people ask questions on Quora that are ...</td>\n",
       "      <td>Why do so many people ask questions on Quora.c...</td>\n",
       "      <td>1.0</td>\n",
       "    </tr>\n",
       "    <tr>\n",
       "      <th>2</th>\n",
       "      <td>What are the advantages and disadvantages of s...</td>\n",
       "      <td>What are advantages and disadvantages of study...</td>\n",
       "      <td>1.0</td>\n",
       "    </tr>\n",
       "    <tr>\n",
       "      <th>3</th>\n",
       "      <td>What are the side effects of ProActiv?</td>\n",
       "      <td>What are the side effects for using Proactiv? ...</td>\n",
       "      <td>1.0</td>\n",
       "    </tr>\n",
       "    <tr>\n",
       "      <th>4</th>\n",
       "      <td>How do I stop WhatsApp messages when internet ...</td>\n",
       "      <td>Can I go offline from WhatsApp without disconn...</td>\n",
       "      <td>0.0</td>\n",
       "    </tr>\n",
       "  </tbody>\n",
       "</table>\n",
       "</div>\n",
       "    <div class=\"colab-df-buttons\">\n",
       "\n",
       "  <div class=\"colab-df-container\">\n",
       "    <button class=\"colab-df-convert\" onclick=\"convertToInteractive('df-0661c247-0fd1-44d0-b056-7b45bf26d38e')\"\n",
       "            title=\"Convert this dataframe to an interactive table.\"\n",
       "            style=\"display:none;\">\n",
       "\n",
       "  <svg xmlns=\"http://www.w3.org/2000/svg\" height=\"24px\" viewBox=\"0 -960 960 960\">\n",
       "    <path d=\"M120-120v-720h720v720H120Zm60-500h600v-160H180v160Zm220 220h160v-160H400v160Zm0 220h160v-160H400v160ZM180-400h160v-160H180v160Zm440 0h160v-160H620v160ZM180-180h160v-160H180v160Zm440 0h160v-160H620v160Z\"/>\n",
       "  </svg>\n",
       "    </button>\n",
       "\n",
       "  <style>\n",
       "    .colab-df-container {\n",
       "      display:flex;\n",
       "      gap: 12px;\n",
       "    }\n",
       "\n",
       "    .colab-df-convert {\n",
       "      background-color: #E8F0FE;\n",
       "      border: none;\n",
       "      border-radius: 50%;\n",
       "      cursor: pointer;\n",
       "      display: none;\n",
       "      fill: #1967D2;\n",
       "      height: 32px;\n",
       "      padding: 0 0 0 0;\n",
       "      width: 32px;\n",
       "    }\n",
       "\n",
       "    .colab-df-convert:hover {\n",
       "      background-color: #E2EBFA;\n",
       "      box-shadow: 0px 1px 2px rgba(60, 64, 67, 0.3), 0px 1px 3px 1px rgba(60, 64, 67, 0.15);\n",
       "      fill: #174EA6;\n",
       "    }\n",
       "\n",
       "    .colab-df-buttons div {\n",
       "      margin-bottom: 4px;\n",
       "    }\n",
       "\n",
       "    [theme=dark] .colab-df-convert {\n",
       "      background-color: #3B4455;\n",
       "      fill: #D2E3FC;\n",
       "    }\n",
       "\n",
       "    [theme=dark] .colab-df-convert:hover {\n",
       "      background-color: #434B5C;\n",
       "      box-shadow: 0px 1px 3px 1px rgba(0, 0, 0, 0.15);\n",
       "      filter: drop-shadow(0px 1px 2px rgba(0, 0, 0, 0.3));\n",
       "      fill: #FFFFFF;\n",
       "    }\n",
       "  </style>\n",
       "\n",
       "    <script>\n",
       "      const buttonEl =\n",
       "        document.querySelector('#df-0661c247-0fd1-44d0-b056-7b45bf26d38e button.colab-df-convert');\n",
       "      buttonEl.style.display =\n",
       "        google.colab.kernel.accessAllowed ? 'block' : 'none';\n",
       "\n",
       "      async function convertToInteractive(key) {\n",
       "        const element = document.querySelector('#df-0661c247-0fd1-44d0-b056-7b45bf26d38e');\n",
       "        const dataTable =\n",
       "          await google.colab.kernel.invokeFunction('convertToInteractive',\n",
       "                                                    [key], {});\n",
       "        if (!dataTable) return;\n",
       "\n",
       "        const docLinkHtml = 'Like what you see? Visit the ' +\n",
       "          '<a target=\"_blank\" href=https://colab.research.google.com/notebooks/data_table.ipynb>data table notebook</a>'\n",
       "          + ' to learn more about interactive tables.';\n",
       "        element.innerHTML = '';\n",
       "        dataTable['output_type'] = 'display_data';\n",
       "        await google.colab.output.renderOutput(dataTable, element);\n",
       "        const docLink = document.createElement('div');\n",
       "        docLink.innerHTML = docLinkHtml;\n",
       "        element.appendChild(docLink);\n",
       "      }\n",
       "    </script>\n",
       "  </div>\n",
       "\n",
       "\n",
       "<div id=\"df-a4c101a6-15f2-47e0-9690-c85dc3140a5e\">\n",
       "  <button class=\"colab-df-quickchart\" onclick=\"quickchart('df-a4c101a6-15f2-47e0-9690-c85dc3140a5e')\"\n",
       "            title=\"Suggest charts\"\n",
       "            style=\"display:none;\">\n",
       "\n",
       "<svg xmlns=\"http://www.w3.org/2000/svg\" height=\"24px\"viewBox=\"0 0 24 24\"\n",
       "     width=\"24px\">\n",
       "    <g>\n",
       "        <path d=\"M19 3H5c-1.1 0-2 .9-2 2v14c0 1.1.9 2 2 2h14c1.1 0 2-.9 2-2V5c0-1.1-.9-2-2-2zM9 17H7v-7h2v7zm4 0h-2V7h2v10zm4 0h-2v-4h2v4z\"/>\n",
       "    </g>\n",
       "</svg>\n",
       "  </button>\n",
       "\n",
       "<style>\n",
       "  .colab-df-quickchart {\n",
       "      --bg-color: #E8F0FE;\n",
       "      --fill-color: #1967D2;\n",
       "      --hover-bg-color: #E2EBFA;\n",
       "      --hover-fill-color: #174EA6;\n",
       "      --disabled-fill-color: #AAA;\n",
       "      --disabled-bg-color: #DDD;\n",
       "  }\n",
       "\n",
       "  [theme=dark] .colab-df-quickchart {\n",
       "      --bg-color: #3B4455;\n",
       "      --fill-color: #D2E3FC;\n",
       "      --hover-bg-color: #434B5C;\n",
       "      --hover-fill-color: #FFFFFF;\n",
       "      --disabled-bg-color: #3B4455;\n",
       "      --disabled-fill-color: #666;\n",
       "  }\n",
       "\n",
       "  .colab-df-quickchart {\n",
       "    background-color: var(--bg-color);\n",
       "    border: none;\n",
       "    border-radius: 50%;\n",
       "    cursor: pointer;\n",
       "    display: none;\n",
       "    fill: var(--fill-color);\n",
       "    height: 32px;\n",
       "    padding: 0;\n",
       "    width: 32px;\n",
       "  }\n",
       "\n",
       "  .colab-df-quickchart:hover {\n",
       "    background-color: var(--hover-bg-color);\n",
       "    box-shadow: 0 1px 2px rgba(60, 64, 67, 0.3), 0 1px 3px 1px rgba(60, 64, 67, 0.15);\n",
       "    fill: var(--button-hover-fill-color);\n",
       "  }\n",
       "\n",
       "  .colab-df-quickchart-complete:disabled,\n",
       "  .colab-df-quickchart-complete:disabled:hover {\n",
       "    background-color: var(--disabled-bg-color);\n",
       "    fill: var(--disabled-fill-color);\n",
       "    box-shadow: none;\n",
       "  }\n",
       "\n",
       "  .colab-df-spinner {\n",
       "    border: 2px solid var(--fill-color);\n",
       "    border-color: transparent;\n",
       "    border-bottom-color: var(--fill-color);\n",
       "    animation:\n",
       "      spin 1s steps(1) infinite;\n",
       "  }\n",
       "\n",
       "  @keyframes spin {\n",
       "    0% {\n",
       "      border-color: transparent;\n",
       "      border-bottom-color: var(--fill-color);\n",
       "      border-left-color: var(--fill-color);\n",
       "    }\n",
       "    20% {\n",
       "      border-color: transparent;\n",
       "      border-left-color: var(--fill-color);\n",
       "      border-top-color: var(--fill-color);\n",
       "    }\n",
       "    30% {\n",
       "      border-color: transparent;\n",
       "      border-left-color: var(--fill-color);\n",
       "      border-top-color: var(--fill-color);\n",
       "      border-right-color: var(--fill-color);\n",
       "    }\n",
       "    40% {\n",
       "      border-color: transparent;\n",
       "      border-right-color: var(--fill-color);\n",
       "      border-top-color: var(--fill-color);\n",
       "    }\n",
       "    60% {\n",
       "      border-color: transparent;\n",
       "      border-right-color: var(--fill-color);\n",
       "    }\n",
       "    80% {\n",
       "      border-color: transparent;\n",
       "      border-right-color: var(--fill-color);\n",
       "      border-bottom-color: var(--fill-color);\n",
       "    }\n",
       "    90% {\n",
       "      border-color: transparent;\n",
       "      border-bottom-color: var(--fill-color);\n",
       "    }\n",
       "  }\n",
       "</style>\n",
       "\n",
       "  <script>\n",
       "    async function quickchart(key) {\n",
       "      const quickchartButtonEl =\n",
       "        document.querySelector('#' + key + ' button');\n",
       "      quickchartButtonEl.disabled = true;  // To prevent multiple clicks.\n",
       "      quickchartButtonEl.classList.add('colab-df-spinner');\n",
       "      try {\n",
       "        const charts = await google.colab.kernel.invokeFunction(\n",
       "            'suggestCharts', [key], {});\n",
       "      } catch (error) {\n",
       "        console.error('Error during call to suggestCharts:', error);\n",
       "      }\n",
       "      quickchartButtonEl.classList.remove('colab-df-spinner');\n",
       "      quickchartButtonEl.classList.add('colab-df-quickchart-complete');\n",
       "    }\n",
       "    (() => {\n",
       "      let quickchartButtonEl =\n",
       "        document.querySelector('#df-a4c101a6-15f2-47e0-9690-c85dc3140a5e button');\n",
       "      quickchartButtonEl.style.display =\n",
       "        google.colab.kernel.accessAllowed ? 'block' : 'none';\n",
       "    })();\n",
       "  </script>\n",
       "</div>\n",
       "\n",
       "    </div>\n",
       "  </div>\n"
      ],
      "text/plain": [
       "                                           question1  \\\n",
       "0                 What is the mean of future budget?   \n",
       "1  Why do people ask questions on Quora that are ...   \n",
       "2  What are the advantages and disadvantages of s...   \n",
       "3             What are the side effects of ProActiv?   \n",
       "4  How do I stop WhatsApp messages when internet ...   \n",
       "\n",
       "                                           question2  is_duplicate  \n",
       "0                 What is the meaning of the future?           0.0  \n",
       "1  Why do so many people ask questions on Quora.c...           1.0  \n",
       "2  What are advantages and disadvantages of study...           1.0  \n",
       "3  What are the side effects for using Proactiv? ...           1.0  \n",
       "4  Can I go offline from WhatsApp without disconn...           0.0  "
      ]
     },
     "execution_count": 17,
     "metadata": {},
     "output_type": "execute_result"
    }
   ],
   "source": [
    "train_data = train_data.drop(['id','qid1','qid2'],axis=1)\n",
    "test_data = test_data.drop(['is_duplicate'],axis=1)\n",
    "train_data.head()"
   ]
  },
  {
   "cell_type": "code",
   "execution_count": 121,
   "metadata": {
    "colab": {
     "base_uri": "https://localhost:8080/",
     "height": 475
    },
    "execution": {
     "iopub.execute_input": "2021-04-30T14:16:27.580369Z",
     "iopub.status.busy": "2021-04-30T14:16:27.579545Z",
     "iopub.status.idle": "2021-04-30T14:16:27.711950Z",
     "shell.execute_reply": "2021-04-30T14:16:27.712627Z"
    },
    "id": "othxI33F2IjL",
    "outputId": "15b6689b-0d90-42e4-f19b-e2e687467839",
    "papermill": {
     "duration": 0.15802,
     "end_time": "2021-04-30T14:16:27.712824",
     "exception": false,
     "start_time": "2021-04-30T14:16:27.554804",
     "status": "completed"
    },
    "tags": []
   },
   "outputs": [
    {
     "data": {
      "text/plain": [
       "<Axes: xlabel='is_duplicate'>"
      ]
     },
     "execution_count": 121,
     "metadata": {},
     "output_type": "execute_result"
    },
    {
     "data": {
      "image/png": "[encoded data removed]",
      "text/plain": [
       "<Figure size 640x480 with 1 Axes>"
      ]
     },
     "metadata": {},
     "output_type": "display_data"
    }
   ],
   "source": [
    "train_data.is_duplicate.value_counts().plot(kind='bar')"
   ]
  },
  {
   "cell_type": "code",
   "execution_count": 18,
   "metadata": {
    "colab": {
     "base_uri": "https://localhost:8080/"
    },
    "execution": {
     "iopub.execute_input": "2021-04-30T14:16:27.766842Z",
     "iopub.status.busy": "2021-04-30T14:16:27.766150Z",
     "iopub.status.idle": "2021-04-30T14:16:27.924803Z",
     "shell.execute_reply": "2021-04-30T14:16:27.923882Z"
    },
    "id": "yqbPskDe2IjM",
    "outputId": "7e7b443b-2503-41c7-ed9f-7f254caa89f0",
    "papermill": {
     "duration": 0.184691,
     "end_time": "2021-04-30T14:16:27.924932",
     "exception": false,
     "start_time": "2021-04-30T14:16:27.740241",
     "status": "completed"
    },
    "tags": []
   },
   "outputs": [
    {
     "data": {
      "text/plain": [
       "((292, 3), (431, 3))"
      ]
     },
     "execution_count": 18,
     "metadata": {},
     "output_type": "execute_result"
    }
   ],
   "source": [
    "train_data[train_data['is_duplicate']==1].shape,train_data[train_data['is_duplicate']==0].shape"
   ]
  },
  {
   "cell_type": "code",
   "execution_count": 19,
   "metadata": {
    "execution": {
     "iopub.execute_input": "2021-04-30T14:16:27.974957Z",
     "iopub.status.busy": "2021-04-30T14:16:27.974305Z",
     "iopub.status.idle": "2021-04-30T14:16:27.983563Z",
     "shell.execute_reply": "2021-04-30T14:16:27.983042Z"
    },
    "id": "ZIZnd78u2IjN",
    "papermill": {
     "duration": 0.035995,
     "end_time": "2021-04-30T14:16:27.983670",
     "exception": false,
     "start_time": "2021-04-30T14:16:27.947675",
     "status": "completed"
    },
    "tags": []
   },
   "outputs": [],
   "source": [
    "is_duplicate = train_data[train_data['is_duplicate']==1]\n",
    "not_duplicate = train_data[train_data['is_duplicate']==0]"
   ]
  },
  {
   "cell_type": "code",
   "execution_count": 20,
   "metadata": {
    "colab": {
     "base_uri": "https://localhost:8080/",
     "height": 476
    },
    "execution": {
     "iopub.execute_input": "2021-04-30T14:16:28.036186Z",
     "iopub.status.busy": "2021-04-30T14:16:28.035369Z",
     "iopub.status.idle": "2021-04-30T14:16:28.049462Z",
     "shell.execute_reply": "2021-04-30T14:16:28.049936Z"
    },
    "id": "5-r7Lf--2IjO",
    "outputId": "915d6e1c-4525-4ee8-b96f-a901d12bbc3a",
    "papermill": {
     "duration": 0.043555,
     "end_time": "2021-04-30T14:16:28.050081",
     "exception": false,
     "start_time": "2021-04-30T14:16:28.006526",
     "status": "completed"
    },
    "tags": []
   },
   "outputs": [
    {
     "data": {
      "application/vnd.google.colaboratory.intrinsic+json": {
       "summary": "{\n  \"name\": \"train_data\",\n  \"rows\": 723,\n  \"fields\": [\n    {\n      \"column\": \"question1\",\n      \"properties\": {\n        \"dtype\": \"string\",\n        \"num_unique_values\": 723,\n        \"samples\": [\n          \"can I use magnets to push an object in motion away from another object in motion using repulsion?\",\n          \"What colors are most trustworthy?\",\n          \"Can anyone become good at mathematics?\"\n        ],\n        \"semantic_type\": \"\",\n        \"description\": \"\"\n      }\n    },\n    {\n      \"column\": \"question2\",\n      \"properties\": {\n        \"dtype\": \"string\",\n        \"num_unique_values\": 721,\n        \"samples\": [\n          \"Why should we avoid hot tea in plastic cup?\",\n          \"What online platforms can I post ads for beer money opportunity?\",\n          \"Why does Stone Cold Steve Austin wear a knee brace?\"\n        ],\n        \"semantic_type\": \"\",\n        \"description\": \"\"\n      }\n    },\n    {\n      \"column\": \"is_duplicate\",\n      \"properties\": {\n        \"dtype\": \"number\",\n        \"std\": 0.4910122343247072,\n        \"min\": 0.0,\n        \"max\": 1.0,\n        \"num_unique_values\": 2,\n        \"samples\": [\n          1.0,\n          0.0\n        ],\n        \"semantic_type\": \"\",\n        \"description\": \"\"\n      }\n    }\n  ]\n}",
       "type": "dataframe",
       "variable_name": "train_data"
      },
      "text/html": [
       "\n",
       "  <div id=\"df-88a086e6-0cdf-4a83-a43a-9e63cc287b26\" class=\"colab-df-container\">\n",
       "    <div>\n",
       "<style scoped>\n",
       "    .dataframe tbody tr th:only-of-type {\n",
       "        vertical-align: middle;\n",
       "    }\n",
       "\n",
       "    .dataframe tbody tr th {\n",
       "        vertical-align: top;\n",
       "    }\n",
       "\n",
       "    .dataframe thead th {\n",
       "        text-align: right;\n",
       "    }\n",
       "</style>\n",
       "<table border=\"1\" class=\"dataframe\">\n",
       "  <thead>\n",
       "    <tr style=\"text-align: right;\">\n",
       "      <th></th>\n",
       "      <th>question1</th>\n",
       "      <th>question2</th>\n",
       "      <th>is_duplicate</th>\n",
       "    </tr>\n",
       "  </thead>\n",
       "  <tbody>\n",
       "    <tr>\n",
       "      <th>0</th>\n",
       "      <td>How can I use auction sites as a hobby?</td>\n",
       "      <td>THE best &amp; POWERFUL ASTROLOGER in Singapore-GU...</td>\n",
       "      <td>0.0</td>\n",
       "    </tr>\n",
       "    <tr>\n",
       "      <th>1</th>\n",
       "      <td>What is the first law of thermodynamics and wh...</td>\n",
       "      <td>What are the applications of the first law of ...</td>\n",
       "      <td>0.0</td>\n",
       "    </tr>\n",
       "    <tr>\n",
       "      <th>2</th>\n",
       "      <td>What defines a shallow person?</td>\n",
       "      <td>How do you define someone as being a good person?</td>\n",
       "      <td>0.0</td>\n",
       "    </tr>\n",
       "    <tr>\n",
       "      <th>3</th>\n",
       "      <td>How do you improve your writing skills?</td>\n",
       "      <td>How do I improve my writing skills?</td>\n",
       "      <td>1.0</td>\n",
       "    </tr>\n",
       "    <tr>\n",
       "      <th>4</th>\n",
       "      <td>I think my friends are jealous. What do I do?</td>\n",
       "      <td>My friends are jealous, What should I do?</td>\n",
       "      <td>0.0</td>\n",
       "    </tr>\n",
       "    <tr>\n",
       "      <th>...</th>\n",
       "      <td>...</td>\n",
       "      <td>...</td>\n",
       "      <td>...</td>\n",
       "    </tr>\n",
       "    <tr>\n",
       "      <th>718</th>\n",
       "      <td>What are 2016 house construction ideas and con...</td>\n",
       "      <td>What are the best brick house construction tec...</td>\n",
       "      <td>0.0</td>\n",
       "    </tr>\n",
       "    <tr>\n",
       "      <th>719</th>\n",
       "      <td>How do I find angel investors?</td>\n",
       "      <td>Where can I find and pitch angel investors?</td>\n",
       "      <td>1.0</td>\n",
       "    </tr>\n",
       "    <tr>\n",
       "      <th>720</th>\n",
       "      <td>How is the compensation system in Uber?</td>\n",
       "      <td>Customer Service: What is Uber's phone number?</td>\n",
       "      <td>0.0</td>\n",
       "    </tr>\n",
       "    <tr>\n",
       "      <th>721</th>\n",
       "      <td>What is the first thing you would do as presid...</td>\n",
       "      <td>If you were a president, what is the first thi...</td>\n",
       "      <td>1.0</td>\n",
       "    </tr>\n",
       "    <tr>\n",
       "      <th>722</th>\n",
       "      <td>When will the BHI employees feel the effects o...</td>\n",
       "      <td>Did Marissa Mayer fail at turning Yahoo around?</td>\n",
       "      <td>0.0</td>\n",
       "    </tr>\n",
       "  </tbody>\n",
       "</table>\n",
       "<p>723 rows × 3 columns</p>\n",
       "</div>\n",
       "    <div class=\"colab-df-buttons\">\n",
       "\n",
       "  <div class=\"colab-df-container\">\n",
       "    <button class=\"colab-df-convert\" onclick=\"convertToInteractive('df-88a086e6-0cdf-4a83-a43a-9e63cc287b26')\"\n",
       "            title=\"Convert this dataframe to an interactive table.\"\n",
       "            style=\"display:none;\">\n",
       "\n",
       "  <svg xmlns=\"http://www.w3.org/2000/svg\" height=\"24px\" viewBox=\"0 -960 960 960\">\n",
       "    <path d=\"M120-120v-720h720v720H120Zm60-500h600v-160H180v160Zm220 220h160v-160H400v160Zm0 220h160v-160H400v160ZM180-400h160v-160H180v160Zm440 0h160v-160H620v160ZM180-180h160v-160H180v160Zm440 0h160v-160H620v160Z\"/>\n",
       "  </svg>\n",
       "    </button>\n",
       "\n",
       "  <style>\n",
       "    .colab-df-container {\n",
       "      display:flex;\n",
       "      gap: 12px;\n",
       "    }\n",
       "\n",
       "    .colab-df-convert {\n",
       "      background-color: #E8F0FE;\n",
       "      border: none;\n",
       "      border-radius: 50%;\n",
       "      cursor: pointer;\n",
       "      display: none;\n",
       "      fill: #1967D2;\n",
       "      height: 32px;\n",
       "      padding: 0 0 0 0;\n",
       "      width: 32px;\n",
       "    }\n",
       "\n",
       "    .colab-df-convert:hover {\n",
       "      background-color: #E2EBFA;\n",
       "      box-shadow: 0px 1px 2px rgba(60, 64, 67, 0.3), 0px 1px 3px 1px rgba(60, 64, 67, 0.15);\n",
       "      fill: #174EA6;\n",
       "    }\n",
       "\n",
       "    .colab-df-buttons div {\n",
       "      margin-bottom: 4px;\n",
       "    }\n",
       "\n",
       "    [theme=dark] .colab-df-convert {\n",
       "      background-color: #3B4455;\n",
       "      fill: #D2E3FC;\n",
       "    }\n",
       "\n",
       "    [theme=dark] .colab-df-convert:hover {\n",
       "      background-color: #434B5C;\n",
       "      box-shadow: 0px 1px 3px 1px rgba(0, 0, 0, 0.15);\n",
       "      filter: drop-shadow(0px 1px 2px rgba(0, 0, 0, 0.3));\n",
       "      fill: #FFFFFF;\n",
       "    }\n",
       "  </style>\n",
       "\n",
       "    <script>\n",
       "      const buttonEl =\n",
       "        document.querySelector('#df-88a086e6-0cdf-4a83-a43a-9e63cc287b26 button.colab-df-convert');\n",
       "      buttonEl.style.display =\n",
       "        google.colab.kernel.accessAllowed ? 'block' : 'none';\n",
       "\n",
       "      async function convertToInteractive(key) {\n",
       "        const element = document.querySelector('#df-88a086e6-0cdf-4a83-a43a-9e63cc287b26');\n",
       "        const dataTable =\n",
       "          await google.colab.kernel.invokeFunction('convertToInteractive',\n",
       "                                                    [key], {});\n",
       "        if (!dataTable) return;\n",
       "\n",
       "        const docLinkHtml = 'Like what you see? Visit the ' +\n",
       "          '<a target=\"_blank\" href=https://colab.research.google.com/notebooks/data_table.ipynb>data table notebook</a>'\n",
       "          + ' to learn more about interactive tables.';\n",
       "        element.innerHTML = '';\n",
       "        dataTable['output_type'] = 'display_data';\n",
       "        await google.colab.output.renderOutput(dataTable, element);\n",
       "        const docLink = document.createElement('div');\n",
       "        docLink.innerHTML = docLinkHtml;\n",
       "        element.appendChild(docLink);\n",
       "      }\n",
       "    </script>\n",
       "  </div>\n",
       "\n",
       "\n",
       "<div id=\"df-dd161563-2afe-4707-8a1c-cf3126396954\">\n",
       "  <button class=\"colab-df-quickchart\" onclick=\"quickchart('df-dd161563-2afe-4707-8a1c-cf3126396954')\"\n",
       "            title=\"Suggest charts\"\n",
       "            style=\"display:none;\">\n",
       "\n",
       "<svg xmlns=\"http://www.w3.org/2000/svg\" height=\"24px\"viewBox=\"0 0 24 24\"\n",
       "     width=\"24px\">\n",
       "    <g>\n",
       "        <path d=\"M19 3H5c-1.1 0-2 .9-2 2v14c0 1.1.9 2 2 2h14c1.1 0 2-.9 2-2V5c0-1.1-.9-2-2-2zM9 17H7v-7h2v7zm4 0h-2V7h2v10zm4 0h-2v-4h2v4z\"/>\n",
       "    </g>\n",
       "</svg>\n",
       "  </button>\n",
       "\n",
       "<style>\n",
       "  .colab-df-quickchart {\n",
       "      --bg-color: #E8F0FE;\n",
       "      --fill-color: #1967D2;\n",
       "      --hover-bg-color: #E2EBFA;\n",
       "      --hover-fill-color: #174EA6;\n",
       "      --disabled-fill-color: #AAA;\n",
       "      --disabled-bg-color: #DDD;\n",
       "  }\n",
       "\n",
       "  [theme=dark] .colab-df-quickchart {\n",
       "      --bg-color: #3B4455;\n",
       "      --fill-color: #D2E3FC;\n",
       "      --hover-bg-color: #434B5C;\n",
       "      --hover-fill-color: #FFFFFF;\n",
       "      --disabled-bg-color: #3B4455;\n",
       "      --disabled-fill-color: #666;\n",
       "  }\n",
       "\n",
       "  .colab-df-quickchart {\n",
       "    background-color: var(--bg-color);\n",
       "    border: none;\n",
       "    border-radius: 50%;\n",
       "    cursor: pointer;\n",
       "    display: none;\n",
       "    fill: var(--fill-color);\n",
       "    height: 32px;\n",
       "    padding: 0;\n",
       "    width: 32px;\n",
       "  }\n",
       "\n",
       "  .colab-df-quickchart:hover {\n",
       "    background-color: var(--hover-bg-color);\n",
       "    box-shadow: 0 1px 2px rgba(60, 64, 67, 0.3), 0 1px 3px 1px rgba(60, 64, 67, 0.15);\n",
       "    fill: var(--button-hover-fill-color);\n",
       "  }\n",
       "\n",
       "  .colab-df-quickchart-complete:disabled,\n",
       "  .colab-df-quickchart-complete:disabled:hover {\n",
       "    background-color: var(--disabled-bg-color);\n",
       "    fill: var(--disabled-fill-color);\n",
       "    box-shadow: none;\n",
       "  }\n",
       "\n",
       "  .colab-df-spinner {\n",
       "    border: 2px solid var(--fill-color);\n",
       "    border-color: transparent;\n",
       "    border-bottom-color: var(--fill-color);\n",
       "    animation:\n",
       "      spin 1s steps(1) infinite;\n",
       "  }\n",
       "\n",
       "  @keyframes spin {\n",
       "    0% {\n",
       "      border-color: transparent;\n",
       "      border-bottom-color: var(--fill-color);\n",
       "      border-left-color: var(--fill-color);\n",
       "    }\n",
       "    20% {\n",
       "      border-color: transparent;\n",
       "      border-left-color: var(--fill-color);\n",
       "      border-top-color: var(--fill-color);\n",
       "    }\n",
       "    30% {\n",
       "      border-color: transparent;\n",
       "      border-left-color: var(--fill-color);\n",
       "      border-top-color: var(--fill-color);\n",
       "      border-right-color: var(--fill-color);\n",
       "    }\n",
       "    40% {\n",
       "      border-color: transparent;\n",
       "      border-right-color: var(--fill-color);\n",
       "      border-top-color: var(--fill-color);\n",
       "    }\n",
       "    60% {\n",
       "      border-color: transparent;\n",
       "      border-right-color: var(--fill-color);\n",
       "    }\n",
       "    80% {\n",
       "      border-color: transparent;\n",
       "      border-right-color: var(--fill-color);\n",
       "      border-bottom-color: var(--fill-color);\n",
       "    }\n",
       "    90% {\n",
       "      border-color: transparent;\n",
       "      border-bottom-color: var(--fill-color);\n",
       "    }\n",
       "  }\n",
       "</style>\n",
       "\n",
       "  <script>\n",
       "    async function quickchart(key) {\n",
       "      const quickchartButtonEl =\n",
       "        document.querySelector('#' + key + ' button');\n",
       "      quickchartButtonEl.disabled = true;  // To prevent multiple clicks.\n",
       "      quickchartButtonEl.classList.add('colab-df-spinner');\n",
       "      try {\n",
       "        const charts = await google.colab.kernel.invokeFunction(\n",
       "            'suggestCharts', [key], {});\n",
       "      } catch (error) {\n",
       "        console.error('Error during call to suggestCharts:', error);\n",
       "      }\n",
       "      quickchartButtonEl.classList.remove('colab-df-spinner');\n",
       "      quickchartButtonEl.classList.add('colab-df-quickchart-complete');\n",
       "    }\n",
       "    (() => {\n",
       "      let quickchartButtonEl =\n",
       "        document.querySelector('#df-dd161563-2afe-4707-8a1c-cf3126396954 button');\n",
       "      quickchartButtonEl.style.display =\n",
       "        google.colab.kernel.accessAllowed ? 'block' : 'none';\n",
       "    })();\n",
       "  </script>\n",
       "</div>\n",
       "\n",
       "  <div id=\"id_9b7597fd-4275-452e-bf03-d13aa28dfbc4\">\n",
       "    <style>\n",
       "      .colab-df-generate {\n",
       "        background-color: #E8F0FE;\n",
       "        border: none;\n",
       "        border-radius: 50%;\n",
       "        cursor: pointer;\n",
       "        display: none;\n",
       "        fill: #1967D2;\n",
       "        height: 32px;\n",
       "        padding: 0 0 0 0;\n",
       "        width: 32px;\n",
       "      }\n",
       "\n",
       "      .colab-df-generate:hover {\n",
       "        background-color: #E2EBFA;\n",
       "        box-shadow: 0px 1px 2px rgba(60, 64, 67, 0.3), 0px 1px 3px 1px rgba(60, 64, 67, 0.15);\n",
       "        fill: #174EA6;\n",
       "      }\n",
       "\n",
       "      [theme=dark] .colab-df-generate {\n",
       "        background-color: #3B4455;\n",
       "        fill: #D2E3FC;\n",
       "      }\n",
       "\n",
       "      [theme=dark] .colab-df-generate:hover {\n",
       "        background-color: #434B5C;\n",
       "        box-shadow: 0px 1px 3px 1px rgba(0, 0, 0, 0.15);\n",
       "        filter: drop-shadow(0px 1px 2px rgba(0, 0, 0, 0.3));\n",
       "        fill: #FFFFFF;\n",
       "      }\n",
       "    </style>\n",
       "    <button class=\"colab-df-generate\" onclick=\"generateWithVariable('train_data')\"\n",
       "            title=\"Generate code using this dataframe.\"\n",
       "            style=\"display:none;\">\n",
       "\n",
       "  <svg xmlns=\"http://www.w3.org/2000/svg\" height=\"24px\"viewBox=\"0 0 24 24\"\n",
       "       width=\"24px\">\n",
       "    <path d=\"M7,19H8.4L18.45,9,17,7.55,7,17.6ZM5,21V16.75L18.45,3.32a2,2,0,0,1,2.83,0l1.4,1.43a1.91,1.91,0,0,1,.58,1.4,1.91,1.91,0,0,1-.58,1.4L9.25,21ZM18.45,9,17,7.55Zm-12,3A5.31,5.31,0,0,0,4.9,8.1,5.31,5.31,0,0,0,1,6.5,5.31,5.31,0,0,0,4.9,4.9,5.31,5.31,0,0,0,6.5,1,5.31,5.31,0,0,0,8.1,4.9,5.31,5.31,0,0,0,12,6.5,5.46,5.46,0,0,0,6.5,12Z\"/>\n",
       "  </svg>\n",
       "    </button>\n",
       "    <script>\n",
       "      (() => {\n",
       "      const buttonEl =\n",
       "        document.querySelector('#id_9b7597fd-4275-452e-bf03-d13aa28dfbc4 button.colab-df-generate');\n",
       "      buttonEl.style.display =\n",
       "        google.colab.kernel.accessAllowed ? 'block' : 'none';\n",
       "\n",
       "      buttonEl.onclick = () => {\n",
       "        google.colab.notebook.generateWithVariable('train_data');\n",
       "      }\n",
       "      })();\n",
       "    </script>\n",
       "  </div>\n",
       "\n",
       "    </div>\n",
       "  </div>\n"
      ],
      "text/plain": [
       "                                             question1  \\\n",
       "0              How can I use auction sites as a hobby?   \n",
       "1    What is the first law of thermodynamics and wh...   \n",
       "2                       What defines a shallow person?   \n",
       "3              How do you improve your writing skills?   \n",
       "4        I think my friends are jealous. What do I do?   \n",
       "..                                                 ...   \n",
       "718  What are 2016 house construction ideas and con...   \n",
       "719                     How do I find angel investors?   \n",
       "720            How is the compensation system in Uber?   \n",
       "721  What is the first thing you would do as presid...   \n",
       "722  When will the BHI employees feel the effects o...   \n",
       "\n",
       "                                             question2  is_duplicate  \n",
       "0    THE best & POWERFUL ASTROLOGER in Singapore-GU...           0.0  \n",
       "1    What are the applications of the first law of ...           0.0  \n",
       "2    How do you define someone as being a good person?           0.0  \n",
       "3                  How do I improve my writing skills?           1.0  \n",
       "4            My friends are jealous, What should I do?           0.0  \n",
       "..                                                 ...           ...  \n",
       "718  What are the best brick house construction tec...           0.0  \n",
       "719        Where can I find and pitch angel investors?           1.0  \n",
       "720     Customer Service: What is Uber's phone number?           0.0  \n",
       "721  If you were a president, what is the first thi...           1.0  \n",
       "722    Did Marissa Mayer fail at turning Yahoo around?           0.0  \n",
       "\n",
       "[723 rows x 3 columns]"
      ]
     },
     "execution_count": 20,
     "metadata": {},
     "output_type": "execute_result"
    }
   ],
   "source": [
    "train_data = pd.concat([is_duplicate,not_duplicate])\n",
    "train_data = train_data.sample(frac=1).reset_index(drop=True)\n",
    "train_data"
   ]
  },
  {
   "cell_type": "code",
   "execution_count": 125,
   "metadata": {
    "colab": {
     "base_uri": "https://localhost:8080/",
     "height": 475
    },
    "execution": {
     "iopub.execute_input": "2021-04-30T14:16:28.103168Z",
     "iopub.status.busy": "2021-04-30T14:16:28.102397Z",
     "iopub.status.idle": "2021-04-30T14:16:28.205723Z",
     "shell.execute_reply": "2021-04-30T14:16:28.205327Z"
    },
    "id": "-SB7x_NA2IjO",
    "outputId": "209ea5c2-e5c0-4f26-e600-afbc113c2715",
    "papermill": {
     "duration": 0.130077,
     "end_time": "2021-04-30T14:16:28.205828",
     "exception": false,
     "start_time": "2021-04-30T14:16:28.075751",
     "status": "completed"
    },
    "tags": []
   },
   "outputs": [
    {
     "data": {
      "text/plain": [
       "<Axes: xlabel='is_duplicate'>"
      ]
     },
     "execution_count": 125,
     "metadata": {},
     "output_type": "execute_result"
    },
    {
     "data": {
      "image/png": "[encoded data removed]",
      "text/plain": [
       "<Figure size 640x480 with 1 Axes>"
      ]
     },
     "metadata": {},
     "output_type": "display_data"
    }
   ],
   "source": [
    "train_data.is_duplicate.value_counts().plot(kind='bar')"
   ]
  },
  {
   "cell_type": "code",
   "execution_count": 21,
   "metadata": {
    "execution": {
     "iopub.execute_input": "2021-04-30T14:16:28.259156Z",
     "iopub.status.busy": "2021-04-30T14:16:28.258522Z",
     "iopub.status.idle": "2021-04-30T14:16:28.261440Z",
     "shell.execute_reply": "2021-04-30T14:16:28.261001Z"
    },
    "id": "IeOUsmg-2IjP",
    "papermill": {
     "duration": 0.031362,
     "end_time": "2021-04-30T14:16:28.261548",
     "exception": false,
     "start_time": "2021-04-30T14:16:28.230186",
     "status": "completed"
    },
    "tags": []
   },
   "outputs": [],
   "source": [
    "#Lemmatize Words\n",
    "\n",
    "def get_pos_tag(tag):\n",
    "    if tag.startswith('J'):\n",
    "        return wordnet.ADJ\n",
    "    elif tag.startswith('V'):\n",
    "        return wordnet.VERB\n",
    "    elif tag.startswith('N'):\n",
    "        return wordnet.NOUN\n",
    "    elif tag.startswith('R'):\n",
    "        return wordnet.ADV\n",
    "    else:\n",
    "        # As default pos in lemmatization is Noun\n",
    "        return wordnet.NOUN\n",
    "\n",
    "lemmatizer = WordNetLemmatizer()"
   ]
  },
  {
   "cell_type": "code",
   "execution_count": 22,
   "metadata": {
    "colab": {
     "base_uri": "https://localhost:8080/"
    },
    "id": "6fzr2Tg28FW5",
    "outputId": "862499b0-20be-46e5-fc75-63636fdc6f3a"
   },
   "outputs": [
    {
     "name": "stderr",
     "output_type": "stream",
     "text": [
      "[nltk_data] Downloading package stopwords to /root/nltk_data...\n",
      "[nltk_data]   Package stopwords is already up-to-date!\n",
      "[nltk_data] Downloading package averaged_perceptron_tagger to\n",
      "[nltk_data]     /root/nltk_data...\n",
      "[nltk_data]   Package averaged_perceptron_tagger is already up-to-\n",
      "[nltk_data]       date!\n",
      "[nltk_data] Downloading package wordnet to /root/nltk_data...\n",
      "[nltk_data]   Package wordnet is already up-to-date!\n"
     ]
    },
    {
     "data": {
      "text/plain": [
       "True"
      ]
     },
     "execution_count": 22,
     "metadata": {},
     "output_type": "execute_result"
    }
   ],
   "source": [
    "import nltk\n",
    "nltk.download('stopwords')\n",
    "nltk.download('averaged_perceptron_tagger')\n",
    "nltk.download('wordnet')"
   ]
  },
  {
   "cell_type": "code",
   "execution_count": 23,
   "metadata": {
    "execution": {
     "iopub.execute_input": "2021-04-30T14:16:28.318442Z",
     "iopub.status.busy": "2021-04-30T14:16:28.317879Z",
     "iopub.status.idle": "2021-04-30T14:16:28.326239Z",
     "shell.execute_reply": "2021-04-30T14:16:28.325708Z"
    },
    "id": "XlRRpgKt2IjQ",
    "papermill": {
     "duration": 0.0406,
     "end_time": "2021-04-30T14:16:28.326347",
     "exception": false,
     "start_time": "2021-04-30T14:16:28.285747",
     "status": "completed"
    },
    "tags": []
   },
   "outputs": [],
   "source": [
    "#cleaning the data now\n",
    "\n",
    "regex = [\n",
    "    r'<[^>]+>', #HTML tags\n",
    "    r'@(\\w+)', # @-mentions\n",
    "    r\"#(\\w+)\", # hashtags\n",
    "    r'http[s]?://(?:[a-z]|[0-9]|[$-_@.&+]|[!*\\(\\),]|(?:%[0-9a-f][0-9a-f]))+', # URLs\n",
    "    r'[^0-9a-z #+_\\\\r\\\\n\\\\t]', #BAD SYMBOLS\n",
    "]\n",
    "\n",
    "REPLACE_URLS = re.compile(r'http[s]?://(?:[a-z]|[0-9]|[$-_@.&+]|[!*\\(\\),]|(?:%[0-9a-f][0-9a-f]))+')\n",
    "REPLACE_HASH = re.compile(r'#(\\w+)')\n",
    "REPLACE_AT = re.compile(r'@(\\w+)')\n",
    "REPLACE_HTML_TAGS = re.compile(r'<[^>]+>')\n",
    "REPLACE_DIGITS = re.compile(r'\\d+')\n",
    "#REPLACE_BY = re.compile(r\"[/(){}\\[\\]\\|,;.:?\\-\\'\\\"$]\")\n",
    "REPLACE_BY = re.compile(r\"[^a-z0-9\\-]\")\n",
    "\n",
    "STOPWORDS = set(stopwords.words('english'))\n",
    "\n",
    "#tokens_re = re.compile(r'('+'|'.join(regex)+')', re.VERBOSE | re.IGNORECASE)\n",
    "\n",
    "# sentences = [] #for Word2Vec model\n",
    "\n",
    "def clean_text(text):\n",
    "  if isinstance(text, str):\n",
    "    text = text.lower()\n",
    "    text = REPLACE_HTML_TAGS.sub(' ', text)\n",
    "    text = REPLACE_URLS.sub('', text)\n",
    "    text = REPLACE_HASH.sub('', text)\n",
    "    text = REPLACE_AT.sub('', text)\n",
    "    text = REPLACE_DIGITS.sub(' ', text)\n",
    "    text = REPLACE_BY.sub(' ', text)\n",
    "\n",
    "\n",
    "    text = \" \".join(lemmatizer.lemmatize(word.strip(), get_pos_tag(pos_tag([word.strip()])[0][1])) for word in text.split() if word not in STOPWORDS and len(word)>3)\n",
    "    text = re.sub(r'[^a-z\\s]', '', text)\n",
    "    text = re.sub(r'\\s+', ' ', text).strip()\n",
    "  else:\n",
    "    text = ''\n",
    "  return text"
   ]
  },
  {
   "cell_type": "code",
   "execution_count": 24,
   "metadata": {
    "colab": {
     "base_uri": "https://localhost:8080/",
     "height": 35
    },
    "execution": {
     "iopub.execute_input": "2021-04-30T14:16:28.378539Z",
     "iopub.status.busy": "2021-04-30T14:16:28.377967Z",
     "iopub.status.idle": "2021-04-30T14:16:30.217140Z",
     "shell.execute_reply": "2021-04-30T14:16:30.217579Z"
    },
    "id": "Mm85mkcH2IjR",
    "outputId": "3185866d-9b81-4398-8b26-cf2de1d72d84",
    "papermill": {
     "duration": 1.867021,
     "end_time": "2021-04-30T14:16:30.217727",
     "exception": false,
     "start_time": "2021-04-30T14:16:28.350706",
     "status": "completed"
    },
    "tags": []
   },
   "outputs": [
    {
     "data": {
      "application/vnd.google.colaboratory.intrinsic+json": {
       "type": "string"
      },
      "text/plain": [
       "'v'"
      ]
     },
     "execution_count": 24,
     "metadata": {},
     "output_type": "execute_result"
    }
   ],
   "source": [
    "get_pos_tag(pos_tag(['playing'.strip()])[0][1])"
   ]
  },
  {
   "cell_type": "code",
   "execution_count": 25,
   "metadata": {
    "colab": {
     "base_uri": "https://localhost:8080/"
    },
    "execution": {
     "iopub.execute_input": "2021-04-30T14:16:30.272598Z",
     "iopub.status.busy": "2021-04-30T14:16:30.271753Z",
     "iopub.status.idle": "2021-04-30T14:16:30.275160Z",
     "shell.execute_reply": "2021-04-30T14:16:30.275645Z"
    },
    "id": "xu49kNlX2IjS",
    "outputId": "57aff276-4c81-4cfe-c4c5-b155b7b93128",
    "papermill": {
     "duration": 0.032626,
     "end_time": "2021-04-30T14:16:30.275759",
     "exception": false,
     "start_time": "2021-04-30T14:16:30.243133",
     "status": "completed"
    },
    "tags": []
   },
   "outputs": [
    {
     "data": {
      "text/plain": [
       "[('word', 'NN')]"
      ]
     },
     "execution_count": 25,
     "metadata": {},
     "output_type": "execute_result"
    }
   ],
   "source": [
    "pos_tag(['word'.strip()])"
   ]
  },
  {
   "cell_type": "code",
   "execution_count": 26,
   "metadata": {
    "colab": {
     "base_uri": "https://localhost:8080/",
     "height": 35
    },
    "execution": {
     "iopub.execute_input": "2021-04-30T14:16:30.329785Z",
     "iopub.status.busy": "2021-04-30T14:16:30.329012Z",
     "iopub.status.idle": "2021-04-30T14:16:30.333453Z",
     "shell.execute_reply": "2021-04-30T14:16:30.333935Z"
    },
    "id": "UkvBOGxy2IjT",
    "outputId": "5629834a-0fde-4024-a9e3-13db3f32a2d0",
    "papermill": {
     "duration": 0.033223,
     "end_time": "2021-04-30T14:16:30.334072",
     "exception": false,
     "start_time": "2021-04-30T14:16:30.300849",
     "status": "completed"
    },
    "tags": []
   },
   "outputs": [
    {
     "data": {
      "application/vnd.google.colaboratory.intrinsic+json": {
       "type": "string"
      },
      "text/plain": [
       "'play'"
      ]
     },
     "execution_count": 26,
     "metadata": {},
     "output_type": "execute_result"
    }
   ],
   "source": [
    "lemmatizer.lemmatize('playing'.strip(), get_pos_tag(pos_tag(['playing'.strip()])[0][1]))"
   ]
  },
  {
   "cell_type": "code",
   "execution_count": 27,
   "metadata": {
    "colab": {
     "base_uri": "https://localhost:8080/",
     "height": 35
    },
    "execution": {
     "iopub.execute_input": "2021-04-30T14:16:30.389723Z",
     "iopub.status.busy": "2021-04-30T14:16:30.388571Z",
     "iopub.status.idle": "2021-04-30T14:16:30.398036Z",
     "shell.execute_reply": "2021-04-30T14:16:30.397639Z"
    },
    "id": "A7rbxgOv2IjU",
    "outputId": "f859c593-efda-40d6-d094-f1e61419068e",
    "papermill": {
     "duration": 0.038494,
     "end_time": "2021-04-30T14:16:30.398176",
     "exception": false,
     "start_time": "2021-04-30T14:16:30.359682",
     "status": "completed"
    },
    "tags": []
   },
   "outputs": [
    {
     "data": {
      "application/vnd.google.colaboratory.intrinsic+json": {
       "type": "string"
      },
      "text/plain": [
       "'v'"
      ]
     },
     "execution_count": 27,
     "metadata": {},
     "output_type": "execute_result"
    }
   ],
   "source": [
    "get_pos_tag(pos_tag(['playing'.strip()])[0][1])"
   ]
  },
  {
   "cell_type": "code",
   "execution_count": 28,
   "metadata": {
    "colab": {
     "base_uri": "https://localhost:8080/",
     "height": 35
    },
    "execution": {
     "iopub.execute_input": "2021-04-30T14:16:30.453789Z",
     "iopub.status.busy": "2021-04-30T14:16:30.452971Z",
     "iopub.status.idle": "2021-04-30T14:16:30.456379Z",
     "shell.execute_reply": "2021-04-30T14:16:30.456801Z"
    },
    "id": "1Qy6IUdi2IjV",
    "outputId": "c446d058-2139-4851-ec81-23a8140125a9",
    "papermill": {
     "duration": 0.033048,
     "end_time": "2021-04-30T14:16:30.456914",
     "exception": false,
     "start_time": "2021-04-30T14:16:30.423866",
     "status": "completed"
    },
    "tags": []
   },
   "outputs": [
    {
     "data": {
      "application/vnd.google.colaboratory.intrinsic+json": {
       "type": "string"
      },
      "text/plain": [
       "'playable'"
      ]
     },
     "execution_count": 28,
     "metadata": {},
     "output_type": "execute_result"
    }
   ],
   "source": [
    "lemmatizer.lemmatize('playable'.strip(),'v' )"
   ]
  },
  {
   "cell_type": "code",
   "execution_count": 29,
   "metadata": {
    "execution": {
     "iopub.execute_input": "2021-04-30T14:16:30.513966Z",
     "iopub.status.busy": "2021-04-30T14:16:30.513150Z",
     "iopub.status.idle": "2021-04-30T14:17:16.585121Z",
     "shell.execute_reply": "2021-04-30T14:17:16.585738Z"
    },
    "id": "m8P1M4aU2IjW",
    "papermill": {
     "duration": 46.103051,
     "end_time": "2021-04-30T14:17:16.585950",
     "exception": false,
     "start_time": "2021-04-30T14:16:30.482899",
     "status": "completed"
    },
    "tags": []
   },
   "outputs": [],
   "source": [
    "train_data['q1'] = train_data['question1'].apply(clean_text)\n",
    "train_data['q2'] = train_data['question2'].apply(clean_text)"
   ]
  },
  {
   "cell_type": "code",
   "execution_count": 30,
   "metadata": {
    "colab": {
     "base_uri": "https://localhost:8080/",
     "height": 310
    },
    "execution": {
     "iopub.execute_input": "2021-04-30T14:17:16.781568Z",
     "iopub.status.busy": "2021-04-30T14:17:16.780711Z",
     "iopub.status.idle": "2021-04-30T14:17:16.784482Z",
     "shell.execute_reply": "2021-04-30T14:17:16.784073Z"
    },
    "id": "WVbW_If-2IjX",
    "outputId": "d92497d1-6eca-457b-a13a-66cd5575b9f4",
    "papermill": {
     "duration": 0.159683,
     "end_time": "2021-04-30T14:17:16.784608",
     "exception": false,
     "start_time": "2021-04-30T14:17:16.624925",
     "status": "completed"
    },
    "tags": []
   },
   "outputs": [
    {
     "data": {
      "application/vnd.google.colaboratory.intrinsic+json": {
       "summary": "{\n  \"name\": \"train_data\",\n  \"rows\": 723,\n  \"fields\": [\n    {\n      \"column\": \"question1\",\n      \"properties\": {\n        \"dtype\": \"string\",\n        \"num_unique_values\": 723,\n        \"samples\": [\n          \"can I use magnets to push an object in motion away from another object in motion using repulsion?\",\n          \"What colors are most trustworthy?\",\n          \"Can anyone become good at mathematics?\"\n        ],\n        \"semantic_type\": \"\",\n        \"description\": \"\"\n      }\n    },\n    {\n      \"column\": \"question2\",\n      \"properties\": {\n        \"dtype\": \"string\",\n        \"num_unique_values\": 721,\n        \"samples\": [\n          \"Why should we avoid hot tea in plastic cup?\",\n          \"What online platforms can I post ads for beer money opportunity?\",\n          \"Why does Stone Cold Steve Austin wear a knee brace?\"\n        ],\n        \"semantic_type\": \"\",\n        \"description\": \"\"\n      }\n    },\n    {\n      \"column\": \"is_duplicate\",\n      \"properties\": {\n        \"dtype\": \"number\",\n        \"std\": 0.4910122343247072,\n        \"min\": 0.0,\n        \"max\": 1.0,\n        \"num_unique_values\": 2,\n        \"samples\": [\n          1.0,\n          0.0\n        ],\n        \"semantic_type\": \"\",\n        \"description\": \"\"\n      }\n    },\n    {\n      \"column\": \"q1\",\n      \"properties\": {\n        \"dtype\": \"string\",\n        \"num_unique_values\": 723,\n        \"samples\": [\n          \"magnet push object motion away another object motion use repulsion\",\n          \"color trustworthy\"\n        ],\n        \"semantic_type\": \"\",\n        \"description\": \"\"\n      }\n    },\n    {\n      \"column\": \"q2\",\n      \"properties\": {\n        \"dtype\": \"string\",\n        \"num_unique_values\": 720,\n        \"samples\": [\n          \"best site download series\",\n          \"apply vicks vapor treat stuffy nose\"\n        ],\n        \"semantic_type\": \"\",\n        \"description\": \"\"\n      }\n    }\n  ]\n}",
       "type": "dataframe",
       "variable_name": "train_data"
      },
      "text/html": [
       "\n",
       "  <div id=\"df-04ee470c-5d25-43dc-9746-f3275a96389d\" class=\"colab-df-container\">\n",
       "    <div>\n",
       "<style scoped>\n",
       "    .dataframe tbody tr th:only-of-type {\n",
       "        vertical-align: middle;\n",
       "    }\n",
       "\n",
       "    .dataframe tbody tr th {\n",
       "        vertical-align: top;\n",
       "    }\n",
       "\n",
       "    .dataframe thead th {\n",
       "        text-align: right;\n",
       "    }\n",
       "</style>\n",
       "<table border=\"1\" class=\"dataframe\">\n",
       "  <thead>\n",
       "    <tr style=\"text-align: right;\">\n",
       "      <th></th>\n",
       "      <th>question1</th>\n",
       "      <th>question2</th>\n",
       "      <th>is_duplicate</th>\n",
       "      <th>q1</th>\n",
       "      <th>q2</th>\n",
       "    </tr>\n",
       "  </thead>\n",
       "  <tbody>\n",
       "    <tr>\n",
       "      <th>0</th>\n",
       "      <td>How can I use auction sites as a hobby?</td>\n",
       "      <td>THE best &amp; POWERFUL ASTROLOGER in Singapore-GU...</td>\n",
       "      <td>0.0</td>\n",
       "      <td>auction site hobby</td>\n",
       "      <td>best powerful astrologer singaporeguru</td>\n",
       "    </tr>\n",
       "    <tr>\n",
       "      <th>1</th>\n",
       "      <td>What is the first law of thermodynamics and wh...</td>\n",
       "      <td>What are the applications of the first law of ...</td>\n",
       "      <td>0.0</td>\n",
       "      <td>first thermodynamics example</td>\n",
       "      <td>application first thermodynamics</td>\n",
       "    </tr>\n",
       "    <tr>\n",
       "      <th>2</th>\n",
       "      <td>What defines a shallow person?</td>\n",
       "      <td>How do you define someone as being a good person?</td>\n",
       "      <td>0.0</td>\n",
       "      <td>defines shallow person</td>\n",
       "      <td>define someone good person</td>\n",
       "    </tr>\n",
       "    <tr>\n",
       "      <th>3</th>\n",
       "      <td>How do you improve your writing skills?</td>\n",
       "      <td>How do I improve my writing skills?</td>\n",
       "      <td>1.0</td>\n",
       "      <td>improve write skill</td>\n",
       "      <td>improve write skill</td>\n",
       "    </tr>\n",
       "    <tr>\n",
       "      <th>4</th>\n",
       "      <td>I think my friends are jealous. What do I do?</td>\n",
       "      <td>My friends are jealous, What should I do?</td>\n",
       "      <td>0.0</td>\n",
       "      <td>think friend jealous</td>\n",
       "      <td>friend jealous</td>\n",
       "    </tr>\n",
       "  </tbody>\n",
       "</table>\n",
       "</div>\n",
       "    <div class=\"colab-df-buttons\">\n",
       "\n",
       "  <div class=\"colab-df-container\">\n",
       "    <button class=\"colab-df-convert\" onclick=\"convertToInteractive('df-04ee470c-5d25-43dc-9746-f3275a96389d')\"\n",
       "            title=\"Convert this dataframe to an interactive table.\"\n",
       "            style=\"display:none;\">\n",
       "\n",
       "  <svg xmlns=\"http://www.w3.org/2000/svg\" height=\"24px\" viewBox=\"0 -960 960 960\">\n",
       "    <path d=\"M120-120v-720h720v720H120Zm60-500h600v-160H180v160Zm220 220h160v-160H400v160Zm0 220h160v-160H400v160ZM180-400h160v-160H180v160Zm440 0h160v-160H620v160ZM180-180h160v-160H180v160Zm440 0h160v-160H620v160Z\"/>\n",
       "  </svg>\n",
       "    </button>\n",
       "\n",
       "  <style>\n",
       "    .colab-df-container {\n",
       "      display:flex;\n",
       "      gap: 12px;\n",
       "    }\n",
       "\n",
       "    .colab-df-convert {\n",
       "      background-color: #E8F0FE;\n",
       "      border: none;\n",
       "      border-radius: 50%;\n",
       "      cursor: pointer;\n",
       "      display: none;\n",
       "      fill: #1967D2;\n",
       "      height: 32px;\n",
       "      padding: 0 0 0 0;\n",
       "      width: 32px;\n",
       "    }\n",
       "\n",
       "    .colab-df-convert:hover {\n",
       "      background-color: #E2EBFA;\n",
       "      box-shadow: 0px 1px 2px rgba(60, 64, 67, 0.3), 0px 1px 3px 1px rgba(60, 64, 67, 0.15);\n",
       "      fill: #174EA6;\n",
       "    }\n",
       "\n",
       "    .colab-df-buttons div {\n",
       "      margin-bottom: 4px;\n",
       "    }\n",
       "\n",
       "    [theme=dark] .colab-df-convert {\n",
       "      background-color: #3B4455;\n",
       "      fill: #D2E3FC;\n",
       "    }\n",
       "\n",
       "    [theme=dark] .colab-df-convert:hover {\n",
       "      background-color: #434B5C;\n",
       "      box-shadow: 0px 1px 3px 1px rgba(0, 0, 0, 0.15);\n",
       "      filter: drop-shadow(0px 1px 2px rgba(0, 0, 0, 0.3));\n",
       "      fill: #FFFFFF;\n",
       "    }\n",
       "  </style>\n",
       "\n",
       "    <script>\n",
       "      const buttonEl =\n",
       "        document.querySelector('#df-04ee470c-5d25-43dc-9746-f3275a96389d button.colab-df-convert');\n",
       "      buttonEl.style.display =\n",
       "        google.colab.kernel.accessAllowed ? 'block' : 'none';\n",
       "\n",
       "      async function convertToInteractive(key) {\n",
       "        const element = document.querySelector('#df-04ee470c-5d25-43dc-9746-f3275a96389d');\n",
       "        const dataTable =\n",
       "          await google.colab.kernel.invokeFunction('convertToInteractive',\n",
       "                                                    [key], {});\n",
       "        if (!dataTable) return;\n",
       "\n",
       "        const docLinkHtml = 'Like what you see? Visit the ' +\n",
       "          '<a target=\"_blank\" href=https://colab.research.google.com/notebooks/data_table.ipynb>data table notebook</a>'\n",
       "          + ' to learn more about interactive tables.';\n",
       "        element.innerHTML = '';\n",
       "        dataTable['output_type'] = 'display_data';\n",
       "        await google.colab.output.renderOutput(dataTable, element);\n",
       "        const docLink = document.createElement('div');\n",
       "        docLink.innerHTML = docLinkHtml;\n",
       "        element.appendChild(docLink);\n",
       "      }\n",
       "    </script>\n",
       "  </div>\n",
       "\n",
       "\n",
       "<div id=\"df-cd2f2e8b-0ff7-48cd-8d32-28fa48906b83\">\n",
       "  <button class=\"colab-df-quickchart\" onclick=\"quickchart('df-cd2f2e8b-0ff7-48cd-8d32-28fa48906b83')\"\n",
       "            title=\"Suggest charts\"\n",
       "            style=\"display:none;\">\n",
       "\n",
       "<svg xmlns=\"http://www.w3.org/2000/svg\" height=\"24px\"viewBox=\"0 0 24 24\"\n",
       "     width=\"24px\">\n",
       "    <g>\n",
       "        <path d=\"M19 3H5c-1.1 0-2 .9-2 2v14c0 1.1.9 2 2 2h14c1.1 0 2-.9 2-2V5c0-1.1-.9-2-2-2zM9 17H7v-7h2v7zm4 0h-2V7h2v10zm4 0h-2v-4h2v4z\"/>\n",
       "    </g>\n",
       "</svg>\n",
       "  </button>\n",
       "\n",
       "<style>\n",
       "  .colab-df-quickchart {\n",
       "      --bg-color: #E8F0FE;\n",
       "      --fill-color: #1967D2;\n",
       "      --hover-bg-color: #E2EBFA;\n",
       "      --hover-fill-color: #174EA6;\n",
       "      --disabled-fill-color: #AAA;\n",
       "      --disabled-bg-color: #DDD;\n",
       "  }\n",
       "\n",
       "  [theme=dark] .colab-df-quickchart {\n",
       "      --bg-color: #3B4455;\n",
       "      --fill-color: #D2E3FC;\n",
       "      --hover-bg-color: #434B5C;\n",
       "      --hover-fill-color: #FFFFFF;\n",
       "      --disabled-bg-color: #3B4455;\n",
       "      --disabled-fill-color: #666;\n",
       "  }\n",
       "\n",
       "  .colab-df-quickchart {\n",
       "    background-color: var(--bg-color);\n",
       "    border: none;\n",
       "    border-radius: 50%;\n",
       "    cursor: pointer;\n",
       "    display: none;\n",
       "    fill: var(--fill-color);\n",
       "    height: 32px;\n",
       "    padding: 0;\n",
       "    width: 32px;\n",
       "  }\n",
       "\n",
       "  .colab-df-quickchart:hover {\n",
       "    background-color: var(--hover-bg-color);\n",
       "    box-shadow: 0 1px 2px rgba(60, 64, 67, 0.3), 0 1px 3px 1px rgba(60, 64, 67, 0.15);\n",
       "    fill: var(--button-hover-fill-color);\n",
       "  }\n",
       "\n",
       "  .colab-df-quickchart-complete:disabled,\n",
       "  .colab-df-quickchart-complete:disabled:hover {\n",
       "    background-color: var(--disabled-bg-color);\n",
       "    fill: var(--disabled-fill-color);\n",
       "    box-shadow: none;\n",
       "  }\n",
       "\n",
       "  .colab-df-spinner {\n",
       "    border: 2px solid var(--fill-color);\n",
       "    border-color: transparent;\n",
       "    border-bottom-color: var(--fill-color);\n",
       "    animation:\n",
       "      spin 1s steps(1) infinite;\n",
       "  }\n",
       "\n",
       "  @keyframes spin {\n",
       "    0% {\n",
       "      border-color: transparent;\n",
       "      border-bottom-color: var(--fill-color);\n",
       "      border-left-color: var(--fill-color);\n",
       "    }\n",
       "    20% {\n",
       "      border-color: transparent;\n",
       "      border-left-color: var(--fill-color);\n",
       "      border-top-color: var(--fill-color);\n",
       "    }\n",
       "    30% {\n",
       "      border-color: transparent;\n",
       "      border-left-color: var(--fill-color);\n",
       "      border-top-color: var(--fill-color);\n",
       "      border-right-color: var(--fill-color);\n",
       "    }\n",
       "    40% {\n",
       "      border-color: transparent;\n",
       "      border-right-color: var(--fill-color);\n",
       "      border-top-color: var(--fill-color);\n",
       "    }\n",
       "    60% {\n",
       "      border-color: transparent;\n",
       "      border-right-color: var(--fill-color);\n",
       "    }\n",
       "    80% {\n",
       "      border-color: transparent;\n",
       "      border-right-color: var(--fill-color);\n",
       "      border-bottom-color: var(--fill-color);\n",
       "    }\n",
       "    90% {\n",
       "      border-color: transparent;\n",
       "      border-bottom-color: var(--fill-color);\n",
       "    }\n",
       "  }\n",
       "</style>\n",
       "\n",
       "  <script>\n",
       "    async function quickchart(key) {\n",
       "      const quickchartButtonEl =\n",
       "        document.querySelector('#' + key + ' button');\n",
       "      quickchartButtonEl.disabled = true;  // To prevent multiple clicks.\n",
       "      quickchartButtonEl.classList.add('colab-df-spinner');\n",
       "      try {\n",
       "        const charts = await google.colab.kernel.invokeFunction(\n",
       "            'suggestCharts', [key], {});\n",
       "      } catch (error) {\n",
       "        console.error('Error during call to suggestCharts:', error);\n",
       "      }\n",
       "      quickchartButtonEl.classList.remove('colab-df-spinner');\n",
       "      quickchartButtonEl.classList.add('colab-df-quickchart-complete');\n",
       "    }\n",
       "    (() => {\n",
       "      let quickchartButtonEl =\n",
       "        document.querySelector('#df-cd2f2e8b-0ff7-48cd-8d32-28fa48906b83 button');\n",
       "      quickchartButtonEl.style.display =\n",
       "        google.colab.kernel.accessAllowed ? 'block' : 'none';\n",
       "    })();\n",
       "  </script>\n",
       "</div>\n",
       "\n",
       "    </div>\n",
       "  </div>\n"
      ],
      "text/plain": [
       "                                           question1  \\\n",
       "0            How can I use auction sites as a hobby?   \n",
       "1  What is the first law of thermodynamics and wh...   \n",
       "2                     What defines a shallow person?   \n",
       "3            How do you improve your writing skills?   \n",
       "4      I think my friends are jealous. What do I do?   \n",
       "\n",
       "                                           question2  is_duplicate  \\\n",
       "0  THE best & POWERFUL ASTROLOGER in Singapore-GU...           0.0   \n",
       "1  What are the applications of the first law of ...           0.0   \n",
       "2  How do you define someone as being a good person?           0.0   \n",
       "3                How do I improve my writing skills?           1.0   \n",
       "4          My friends are jealous, What should I do?           0.0   \n",
       "\n",
       "                             q1                                      q2  \n",
       "0            auction site hobby  best powerful astrologer singaporeguru  \n",
       "1  first thermodynamics example        application first thermodynamics  \n",
       "2        defines shallow person              define someone good person  \n",
       "3           improve write skill                     improve write skill  \n",
       "4          think friend jealous                          friend jealous  "
      ]
     },
     "execution_count": 30,
     "metadata": {},
     "output_type": "execute_result"
    }
   ],
   "source": [
    "train_data.head()"
   ]
  },
  {
   "cell_type": "code",
   "execution_count": 31,
   "metadata": {
    "colab": {
     "base_uri": "https://localhost:8080/"
    },
    "id": "uQ50SBtXFjWt",
    "outputId": "f06f8c4f-2ee5-40a1-99b3-96fe4c785bb9"
   },
   "outputs": [
    {
     "data": {
      "text/plain": [
       "0       What's your opinion on Indian Prime Minister M...\n",
       "1                     How does a capacitor work in a fan?\n",
       "2         What are the characteristics of a Totalitarian?\n",
       "3       How much personal money have you lost in a fai...\n",
       "4       What languages and frameworks were used to cod...\n",
       "                              ...                        \n",
       "4039    Which are some good non fiction books I should...\n",
       "4040    What are some ways to solve systems of equatio...\n",
       "4041    What is the best joke about engineers that ver...\n",
       "4042    Who will win the US presidential elections 201...\n",
       "4043    What is the total volume of the Earth covered ...\n",
       "Name: question1, Length: 4044, dtype: object"
      ]
     },
     "execution_count": 31,
     "metadata": {},
     "output_type": "execute_result"
    }
   ],
   "source": [
    "test_data.question1"
   ]
  },
  {
   "cell_type": "code",
   "execution_count": 32,
   "metadata": {
    "colab": {
     "base_uri": "https://localhost:8080/",
     "height": 362
    },
    "execution": {
     "iopub.execute_input": "2021-04-30T14:17:16.854441Z",
     "iopub.status.busy": "2021-04-30T14:17:16.853622Z",
     "iopub.status.idle": "2021-04-30T14:18:14.113652Z",
     "shell.execute_reply": "2021-04-30T14:18:14.114095Z"
    },
    "id": "a3pn01532IjX",
    "outputId": "66f52104-be54-4574-bf66-28324eaf2e65",
    "papermill": {
     "duration": 57.302444,
     "end_time": "2021-04-30T14:18:14.114249",
     "exception": false,
     "start_time": "2021-04-30T14:17:16.811805",
     "status": "completed"
    },
    "tags": []
   },
   "outputs": [
    {
     "data": {
      "application/vnd.google.colaboratory.intrinsic+json": {
       "summary": "{\n  \"name\": \"test_data\",\n  \"rows\": 4044,\n  \"fields\": [\n    {\n      \"column\": \"id\",\n      \"properties\": {\n        \"dtype\": \"number\",\n        \"std\": 117055,\n        \"min\": 36,\n        \"max\": 404085,\n        \"num_unique_values\": 4044,\n        \"samples\": [\n          284901,\n          74219,\n          345788\n        ],\n        \"semantic_type\": \"\",\n        \"description\": \"\"\n      }\n    },\n    {\n      \"column\": \"qid1\",\n      \"properties\": {\n        \"dtype\": \"number\",\n        \"std\": 228880,\n        \"min\": 73,\n        \"max\": 789290,\n        \"num_unique_values\": 4043,\n        \"samples\": [\n          256272,\n          147488,\n          677622\n        ],\n        \"semantic_type\": \"\",\n        \"description\": \"\"\n      }\n    },\n    {\n      \"column\": \"qid2\",\n      \"properties\": {\n        \"dtype\": \"number\",\n        \"std\": 229676,\n        \"min\": 74,\n        \"max\": 789291,\n        \"num_unique_values\": 4043,\n        \"samples\": [\n          256273,\n          147489,\n          677623\n        ],\n        \"semantic_type\": \"\",\n        \"description\": \"\"\n      }\n    },\n    {\n      \"column\": \"question1\",\n      \"properties\": {\n        \"dtype\": \"string\",\n        \"num_unique_values\": 4006,\n        \"samples\": [\n          \"How do I reverse a directed graph?\",\n          \"What are the best websites to search for jobs in India?\",\n          \"I need to buy a 500kva gen set so which company should prefer and why?\"\n        ],\n        \"semantic_type\": \"\",\n        \"description\": \"\"\n      }\n    },\n    {\n      \"column\": \"question2\",\n      \"properties\": {\n        \"dtype\": \"string\",\n        \"num_unique_values\": 4010,\n        \"samples\": [\n          \"How do you save a 22 year old grandson addicted to drugs?\",\n          \"Why do children like childhood stories?\",\n          \"Why don't smokers think that smoking is a bad habit?\"\n        ],\n        \"semantic_type\": \"\",\n        \"description\": \"\"\n      }\n    },\n    {\n      \"column\": \"q1\",\n      \"properties\": {\n        \"dtype\": \"string\",\n        \"num_unique_values\": 3969,\n        \"samples\": [\n          \"trick debate\",\n          \"high world\",\n          \"good gift foreign visitor bring invite someone home belize first time\"\n        ],\n        \"semantic_type\": \"\",\n        \"description\": \"\"\n      }\n    },\n    {\n      \"column\": \"q2\",\n      \"properties\": {\n        \"dtype\": \"string\",\n        \"num_unique_values\": 3966,\n        \"samples\": [\n          \"think demonetisation affect indian economy\",\n          \"bill clinton black people barack obama\",\n          \"much popular card company like visa mastercard charge merchant debit card transaction credit card transaction\"\n        ],\n        \"semantic_type\": \"\",\n        \"description\": \"\"\n      }\n    }\n  ]\n}",
       "type": "dataframe",
       "variable_name": "test_data"
      },
      "text/html": [
       "\n",
       "  <div id=\"df-0c00d60c-ae57-4566-852a-5d4fd4a43729\" class=\"colab-df-container\">\n",
       "    <div>\n",
       "<style scoped>\n",
       "    .dataframe tbody tr th:only-of-type {\n",
       "        vertical-align: middle;\n",
       "    }\n",
       "\n",
       "    .dataframe tbody tr th {\n",
       "        vertical-align: top;\n",
       "    }\n",
       "\n",
       "    .dataframe thead th {\n",
       "        text-align: right;\n",
       "    }\n",
       "</style>\n",
       "<table border=\"1\" class=\"dataframe\">\n",
       "  <thead>\n",
       "    <tr style=\"text-align: right;\">\n",
       "      <th></th>\n",
       "      <th>id</th>\n",
       "      <th>qid1</th>\n",
       "      <th>qid2</th>\n",
       "      <th>question1</th>\n",
       "      <th>question2</th>\n",
       "      <th>q1</th>\n",
       "      <th>q2</th>\n",
       "    </tr>\n",
       "  </thead>\n",
       "  <tbody>\n",
       "    <tr>\n",
       "      <th>0</th>\n",
       "      <td>269671</td>\n",
       "      <td>530419</td>\n",
       "      <td>530420</td>\n",
       "      <td>What's your opinion on Indian Prime Minister M...</td>\n",
       "      <td>What are your views on the decision of Narendr...</td>\n",
       "      <td>opinion indian prime minister modi policy ille...</td>\n",
       "      <td>view decision narendra modi discontinue curren...</td>\n",
       "    </tr>\n",
       "    <tr>\n",
       "      <th>1</th>\n",
       "      <td>310002</td>\n",
       "      <td>608554</td>\n",
       "      <td>608555</td>\n",
       "      <td>How does a capacitor work in a fan?</td>\n",
       "      <td>Why is a capacitor used in a fan?</td>\n",
       "      <td>capacitor work</td>\n",
       "      <td>capacitor use</td>\n",
       "    </tr>\n",
       "    <tr>\n",
       "      <th>2</th>\n",
       "      <td>5560</td>\n",
       "      <td>11113</td>\n",
       "      <td>11114</td>\n",
       "      <td>What are the characteristics of a Totalitarian?</td>\n",
       "      <td>What are the characteristics of a totalitarian...</td>\n",
       "      <td>characteristic totalitarian</td>\n",
       "      <td>characteristic totalitarian government</td>\n",
       "    </tr>\n",
       "    <tr>\n",
       "      <th>3</th>\n",
       "      <td>75993</td>\n",
       "      <td>150999</td>\n",
       "      <td>151000</td>\n",
       "      <td>How much personal money have you lost in a fai...</td>\n",
       "      <td>How much do the investors give to the startups...</td>\n",
       "      <td>much personal money lose fail business startup...</td>\n",
       "      <td>much investor give startup invest think great ...</td>\n",
       "    </tr>\n",
       "    <tr>\n",
       "      <th>4</th>\n",
       "      <td>219972</td>\n",
       "      <td>74241</td>\n",
       "      <td>433654</td>\n",
       "      <td>What languages and frameworks were used to cod...</td>\n",
       "      <td>What languages and frameworks were used to cod...</td>\n",
       "      <td>language framework use code dropbox</td>\n",
       "      <td>language framework use code udemy backend</td>\n",
       "    </tr>\n",
       "  </tbody>\n",
       "</table>\n",
       "</div>\n",
       "    <div class=\"colab-df-buttons\">\n",
       "\n",
       "  <div class=\"colab-df-container\">\n",
       "    <button class=\"colab-df-convert\" onclick=\"convertToInteractive('df-0c00d60c-ae57-4566-852a-5d4fd4a43729')\"\n",
       "            title=\"Convert this dataframe to an interactive table.\"\n",
       "            style=\"display:none;\">\n",
       "\n",
       "  <svg xmlns=\"http://www.w3.org/2000/svg\" height=\"24px\" viewBox=\"0 -960 960 960\">\n",
       "    <path d=\"M120-120v-720h720v720H120Zm60-500h600v-160H180v160Zm220 220h160v-160H400v160Zm0 220h160v-160H400v160ZM180-400h160v-160H180v160Zm440 0h160v-160H620v160ZM180-180h160v-160H180v160Zm440 0h160v-160H620v160Z\"/>\n",
       "  </svg>\n",
       "    </button>\n",
       "\n",
       "  <style>\n",
       "    .colab-df-container {\n",
       "      display:flex;\n",
       "      gap: 12px;\n",
       "    }\n",
       "\n",
       "    .colab-df-convert {\n",
       "      background-color: #E8F0FE;\n",
       "      border: none;\n",
       "      border-radius: 50%;\n",
       "      cursor: pointer;\n",
       "      display: none;\n",
       "      fill: #1967D2;\n",
       "      height: 32px;\n",
       "      padding: 0 0 0 0;\n",
       "      width: 32px;\n",
       "    }\n",
       "\n",
       "    .colab-df-convert:hover {\n",
       "      background-color: #E2EBFA;\n",
       "      box-shadow: 0px 1px 2px rgba(60, 64, 67, 0.3), 0px 1px 3px 1px rgba(60, 64, 67, 0.15);\n",
       "      fill: #174EA6;\n",
       "    }\n",
       "\n",
       "    .colab-df-buttons div {\n",
       "      margin-bottom: 4px;\n",
       "    }\n",
       "\n",
       "    [theme=dark] .colab-df-convert {\n",
       "      background-color: #3B4455;\n",
       "      fill: #D2E3FC;\n",
       "    }\n",
       "\n",
       "    [theme=dark] .colab-df-convert:hover {\n",
       "      background-color: #434B5C;\n",
       "      box-shadow: 0px 1px 3px 1px rgba(0, 0, 0, 0.15);\n",
       "      filter: drop-shadow(0px 1px 2px rgba(0, 0, 0, 0.3));\n",
       "      fill: #FFFFFF;\n",
       "    }\n",
       "  </style>\n",
       "\n",
       "    <script>\n",
       "      const buttonEl =\n",
       "        document.querySelector('#df-0c00d60c-ae57-4566-852a-5d4fd4a43729 button.colab-df-convert');\n",
       "      buttonEl.style.display =\n",
       "        google.colab.kernel.accessAllowed ? 'block' : 'none';\n",
       "\n",
       "      async function convertToInteractive(key) {\n",
       "        const element = document.querySelector('#df-0c00d60c-ae57-4566-852a-5d4fd4a43729');\n",
       "        const dataTable =\n",
       "          await google.colab.kernel.invokeFunction('convertToInteractive',\n",
       "                                                    [key], {});\n",
       "        if (!dataTable) return;\n",
       "\n",
       "        const docLinkHtml = 'Like what you see? Visit the ' +\n",
       "          '<a target=\"_blank\" href=https://colab.research.google.com/notebooks/data_table.ipynb>data table notebook</a>'\n",
       "          + ' to learn more about interactive tables.';\n",
       "        element.innerHTML = '';\n",
       "        dataTable['output_type'] = 'display_data';\n",
       "        await google.colab.output.renderOutput(dataTable, element);\n",
       "        const docLink = document.createElement('div');\n",
       "        docLink.innerHTML = docLinkHtml;\n",
       "        element.appendChild(docLink);\n",
       "      }\n",
       "    </script>\n",
       "  </div>\n",
       "\n",
       "\n",
       "<div id=\"df-5dc63996-976c-4f86-bb08-93f53522e2bc\">\n",
       "  <button class=\"colab-df-quickchart\" onclick=\"quickchart('df-5dc63996-976c-4f86-bb08-93f53522e2bc')\"\n",
       "            title=\"Suggest charts\"\n",
       "            style=\"display:none;\">\n",
       "\n",
       "<svg xmlns=\"http://www.w3.org/2000/svg\" height=\"24px\"viewBox=\"0 0 24 24\"\n",
       "     width=\"24px\">\n",
       "    <g>\n",
       "        <path d=\"M19 3H5c-1.1 0-2 .9-2 2v14c0 1.1.9 2 2 2h14c1.1 0 2-.9 2-2V5c0-1.1-.9-2-2-2zM9 17H7v-7h2v7zm4 0h-2V7h2v10zm4 0h-2v-4h2v4z\"/>\n",
       "    </g>\n",
       "</svg>\n",
       "  </button>\n",
       "\n",
       "<style>\n",
       "  .colab-df-quickchart {\n",
       "      --bg-color: #E8F0FE;\n",
       "      --fill-color: #1967D2;\n",
       "      --hover-bg-color: #E2EBFA;\n",
       "      --hover-fill-color: #174EA6;\n",
       "      --disabled-fill-color: #AAA;\n",
       "      --disabled-bg-color: #DDD;\n",
       "  }\n",
       "\n",
       "  [theme=dark] .colab-df-quickchart {\n",
       "      --bg-color: #3B4455;\n",
       "      --fill-color: #D2E3FC;\n",
       "      --hover-bg-color: #434B5C;\n",
       "      --hover-fill-color: #FFFFFF;\n",
       "      --disabled-bg-color: #3B4455;\n",
       "      --disabled-fill-color: #666;\n",
       "  }\n",
       "\n",
       "  .colab-df-quickchart {\n",
       "    background-color: var(--bg-color);\n",
       "    border: none;\n",
       "    border-radius: 50%;\n",
       "    cursor: pointer;\n",
       "    display: none;\n",
       "    fill: var(--fill-color);\n",
       "    height: 32px;\n",
       "    padding: 0;\n",
       "    width: 32px;\n",
       "  }\n",
       "\n",
       "  .colab-df-quickchart:hover {\n",
       "    background-color: var(--hover-bg-color);\n",
       "    box-shadow: 0 1px 2px rgba(60, 64, 67, 0.3), 0 1px 3px 1px rgba(60, 64, 67, 0.15);\n",
       "    fill: var(--button-hover-fill-color);\n",
       "  }\n",
       "\n",
       "  .colab-df-quickchart-complete:disabled,\n",
       "  .colab-df-quickchart-complete:disabled:hover {\n",
       "    background-color: var(--disabled-bg-color);\n",
       "    fill: var(--disabled-fill-color);\n",
       "    box-shadow: none;\n",
       "  }\n",
       "\n",
       "  .colab-df-spinner {\n",
       "    border: 2px solid var(--fill-color);\n",
       "    border-color: transparent;\n",
       "    border-bottom-color: var(--fill-color);\n",
       "    animation:\n",
       "      spin 1s steps(1) infinite;\n",
       "  }\n",
       "\n",
       "  @keyframes spin {\n",
       "    0% {\n",
       "      border-color: transparent;\n",
       "      border-bottom-color: var(--fill-color);\n",
       "      border-left-color: var(--fill-color);\n",
       "    }\n",
       "    20% {\n",
       "      border-color: transparent;\n",
       "      border-left-color: var(--fill-color);\n",
       "      border-top-color: var(--fill-color);\n",
       "    }\n",
       "    30% {\n",
       "      border-color: transparent;\n",
       "      border-left-color: var(--fill-color);\n",
       "      border-top-color: var(--fill-color);\n",
       "      border-right-color: var(--fill-color);\n",
       "    }\n",
       "    40% {\n",
       "      border-color: transparent;\n",
       "      border-right-color: var(--fill-color);\n",
       "      border-top-color: var(--fill-color);\n",
       "    }\n",
       "    60% {\n",
       "      border-color: transparent;\n",
       "      border-right-color: var(--fill-color);\n",
       "    }\n",
       "    80% {\n",
       "      border-color: transparent;\n",
       "      border-right-color: var(--fill-color);\n",
       "      border-bottom-color: var(--fill-color);\n",
       "    }\n",
       "    90% {\n",
       "      border-color: transparent;\n",
       "      border-bottom-color: var(--fill-color);\n",
       "    }\n",
       "  }\n",
       "</style>\n",
       "\n",
       "  <script>\n",
       "    async function quickchart(key) {\n",
       "      const quickchartButtonEl =\n",
       "        document.querySelector('#' + key + ' button');\n",
       "      quickchartButtonEl.disabled = true;  // To prevent multiple clicks.\n",
       "      quickchartButtonEl.classList.add('colab-df-spinner');\n",
       "      try {\n",
       "        const charts = await google.colab.kernel.invokeFunction(\n",
       "            'suggestCharts', [key], {});\n",
       "      } catch (error) {\n",
       "        console.error('Error during call to suggestCharts:', error);\n",
       "      }\n",
       "      quickchartButtonEl.classList.remove('colab-df-spinner');\n",
       "      quickchartButtonEl.classList.add('colab-df-quickchart-complete');\n",
       "    }\n",
       "    (() => {\n",
       "      let quickchartButtonEl =\n",
       "        document.querySelector('#df-5dc63996-976c-4f86-bb08-93f53522e2bc button');\n",
       "      quickchartButtonEl.style.display =\n",
       "        google.colab.kernel.accessAllowed ? 'block' : 'none';\n",
       "    })();\n",
       "  </script>\n",
       "</div>\n",
       "\n",
       "    </div>\n",
       "  </div>\n"
      ],
      "text/plain": [
       "       id    qid1    qid2                                          question1  \\\n",
       "0  269671  530419  530420  What's your opinion on Indian Prime Minister M...   \n",
       "1  310002  608554  608555                How does a capacitor work in a fan?   \n",
       "2    5560   11113   11114    What are the characteristics of a Totalitarian?   \n",
       "3   75993  150999  151000  How much personal money have you lost in a fai...   \n",
       "4  219972   74241  433654  What languages and frameworks were used to cod...   \n",
       "\n",
       "                                           question2  \\\n",
       "0  What are your views on the decision of Narendr...   \n",
       "1                  Why is a capacitor used in a fan?   \n",
       "2  What are the characteristics of a totalitarian...   \n",
       "3  How much do the investors give to the startups...   \n",
       "4  What languages and frameworks were used to cod...   \n",
       "\n",
       "                                                  q1  \\\n",
       "0  opinion indian prime minister modi policy ille...   \n",
       "1                                     capacitor work   \n",
       "2                        characteristic totalitarian   \n",
       "3  much personal money lose fail business startup...   \n",
       "4                language framework use code dropbox   \n",
       "\n",
       "                                                  q2  \n",
       "0  view decision narendra modi discontinue curren...  \n",
       "1                                      capacitor use  \n",
       "2             characteristic totalitarian government  \n",
       "3  much investor give startup invest think great ...  \n",
       "4          language framework use code udemy backend  "
      ]
     },
     "execution_count": 32,
     "metadata": {},
     "output_type": "execute_result"
    }
   ],
   "source": [
    "test_data['q1'] = test_data['question1'].astype(str).apply(clean_text)\n",
    "test_data['q2'] = test_data['question2'].astype(str).apply(clean_text)\n",
    "test_data.head()"
   ]
  },
  {
   "cell_type": "code",
   "execution_count": 33,
   "metadata": {
    "colab": {
     "base_uri": "https://localhost:8080/"
    },
    "execution": {
     "iopub.execute_input": "2021-04-30T14:18:14.199154Z",
     "iopub.status.busy": "2021-04-30T14:18:14.198375Z",
     "iopub.status.idle": "2021-04-30T14:18:14.228542Z",
     "shell.execute_reply": "2021-04-30T14:18:14.228146Z"
    },
    "id": "gbm4FXij2IjY",
    "outputId": "ef00aadc-c92f-4cd1-fb53-2845f915143e",
    "papermill": {
     "duration": 0.086697,
     "end_time": "2021-04-30T14:18:14.228660",
     "exception": false,
     "start_time": "2021-04-30T14:18:14.141963",
     "status": "completed"
    },
    "tags": []
   },
   "outputs": [
    {
     "data": {
      "text/plain": [
       "(17, 25)"
      ]
     },
     "execution_count": 33,
     "metadata": {},
     "output_type": "execute_result"
    }
   ],
   "source": [
    "#max len of clean data\n",
    "max_len_q1 = np.max(train_data[\"q1\"].apply(lambda x: len(x.split())))\n",
    "max_len_q2 = np.max(train_data[\"q2\"].apply(lambda x: len(x.split())))\n",
    "max_len_q1, max_len_q2"
   ]
  },
  {
   "cell_type": "code",
   "execution_count": 34,
   "metadata": {
    "execution": {
     "iopub.execute_input": "2021-04-30T14:18:14.294832Z",
     "iopub.status.busy": "2021-04-30T14:18:14.293422Z",
     "iopub.status.idle": "2021-04-30T14:18:16.073235Z",
     "shell.execute_reply": "2021-04-30T14:18:16.072748Z"
    },
    "id": "hEEAGsnL2IjY",
    "papermill": {
     "duration": 1.816559,
     "end_time": "2021-04-30T14:18:16.073372",
     "exception": false,
     "start_time": "2021-04-30T14:18:14.256813",
     "status": "completed"
    },
    "tags": []
   },
   "outputs": [],
   "source": [
    "MAX_NB_WORDS = 200000\n",
    "\n",
    "tokenizer = Tokenizer(num_words = MAX_NB_WORDS)\n",
    "\n",
    "tokenizer.fit_on_texts(list(train_data['q1'].values.astype(str))+list(train_data['q2'].values.astype(str)))\n",
    "\n",
    "\n",
    "X_train_q1 = tokenizer.texts_to_sequences(train_data['q1'].values.astype(str))\n",
    "X_train_q1 = pad_sequences(X_train_q1, maxlen = 30, padding = 'post')\n",
    "\n",
    "X_train_q2 = tokenizer.texts_to_sequences(train_data['q2'].values.astype(str))\n",
    "X_train_q2 = pad_sequences(X_train_q2, maxlen = 30, padding = 'post')"
   ]
  },
  {
   "cell_type": "code",
   "execution_count": 35,
   "metadata": {
    "execution": {
     "iopub.execute_input": "2021-04-30T14:18:16.195157Z",
     "iopub.status.busy": "2021-04-30T14:18:16.169721Z",
     "iopub.status.idle": "2021-04-30T14:18:17.371368Z",
     "shell.execute_reply": "2021-04-30T14:18:17.370881Z"
    },
    "id": "Goc6BKC-2IjZ",
    "papermill": {
     "duration": 1.268874,
     "end_time": "2021-04-30T14:18:17.371503",
     "exception": false,
     "start_time": "2021-04-30T14:18:16.102629",
     "status": "completed"
    },
    "tags": []
   },
   "outputs": [],
   "source": [
    "X_test_q1 = tokenizer.texts_to_sequences(test_data['q1'].ravel())\n",
    "X_test_q1 = pad_sequences(X_test_q1,maxlen = 30, padding='post')\n",
    "\n",
    "X_test_q2 = tokenizer.texts_to_sequences(test_data['q2'].astype(str).ravel())\n",
    "X_test_q2 = pad_sequences(X_test_q2, maxlen = 30, padding='post')"
   ]
  },
  {
   "cell_type": "code",
   "execution_count": 37,
   "metadata": {
    "execution": {
     "iopub.execute_input": "2021-04-30T14:18:17.432165Z",
     "iopub.status.busy": "2021-04-30T14:18:17.431482Z",
     "iopub.status.idle": "2021-04-30T14:18:17.435503Z",
     "shell.execute_reply": "2021-04-30T14:18:17.435029Z"
    },
    "id": "i_UiVlK-2IjZ",
    "papermill": {
     "duration": 0.035356,
     "end_time": "2021-04-30T14:18:17.435617",
     "exception": false,
     "start_time": "2021-04-30T14:18:17.400261",
     "status": "completed"
    },
    "tags": []
   },
   "outputs": [],
   "source": [
    "y = train_data['is_duplicate']"
   ]
  },
  {
   "cell_type": "code",
   "execution_count": 38,
   "metadata": {
    "execution": {
     "iopub.execute_input": "2021-04-30T14:18:17.496246Z",
     "iopub.status.busy": "2021-04-30T14:18:17.495626Z",
     "iopub.status.idle": "2021-04-30T14:18:17.498170Z",
     "shell.execute_reply": "2021-04-30T14:18:17.498547Z"
    },
    "id": "r6ysZRI62IjZ",
    "papermill": {
     "duration": 0.034626,
     "end_time": "2021-04-30T14:18:17.498667",
     "exception": false,
     "start_time": "2021-04-30T14:18:17.464041",
     "status": "completed"
    },
    "tags": []
   },
   "outputs": [],
   "source": [
    "vocab_size = len(tokenizer.word_index) + 1"
   ]
  },
  {
   "cell_type": "markdown",
   "metadata": {
    "id": "bi5DNIZZ2IjZ",
    "papermill": {
     "duration": 0.028786,
     "end_time": "2021-04-30T14:18:17.555699",
     "exception": false,
     "start_time": "2021-04-30T14:18:17.526913",
     "status": "completed"
    },
    "tags": []
   },
   "source": [
    "### Loading Glove word embedding"
   ]
  },
  {
   "cell_type": "code",
   "execution_count": 79,
   "metadata": {
    "colab": {
     "base_uri": "https://localhost:8080/",
     "height": 211
    },
    "execution": {
     "iopub.execute_input": "2021-04-30T14:18:17.617130Z",
     "iopub.status.busy": "2021-04-30T14:18:17.616609Z",
     "iopub.status.idle": "2021-04-30T14:18:57.961754Z",
     "shell.execute_reply": "2021-04-30T14:18:57.961329Z"
    },
    "id": "kafC2ycq2Ijc",
    "outputId": "441c9493-92c8-4277-b1d1-7a652215d4d7",
    "papermill": {
     "duration": 40.377899,
     "end_time": "2021-04-30T14:18:57.961878",
     "exception": false,
     "start_time": "2021-04-30T14:18:17.583979",
     "status": "completed"
    },
    "tags": []
   },
   "outputs": [
    {
     "ename": "FileNotFoundError",
     "evalue": "[Errno 2] No such file or directory: '../input/glove6b200d/glove.6B.200d.txt'",
     "output_type": "error",
     "traceback": [
      "\u001b[0;31m---------------------------------------------------------------------------\u001b[0m",
      "\u001b[0;31mFileNotFoundError\u001b[0m                         Traceback (most recent call last)",
      "\u001b[0;32m<ipython-input-79-d4cbb026bfba>\u001b[0m in \u001b[0;36m<cell line: 2>\u001b[0;34m()\u001b[0m\n\u001b[1;32m      1\u001b[0m \u001b[0membeddings_index\u001b[0m \u001b[0;34m=\u001b[0m \u001b[0;34m{\u001b[0m\u001b[0;34m}\u001b[0m\u001b[0;34m\u001b[0m\u001b[0;34m\u001b[0m\u001b[0m\n\u001b[0;32m----> 2\u001b[0;31m \u001b[0mglovefile\u001b[0m \u001b[0;34m=\u001b[0m \u001b[0mopen\u001b[0m\u001b[0;34m(\u001b[0m\u001b[0;34m'../input/glove6b200d/glove.6B.200d.txt'\u001b[0m\u001b[0;34m,\u001b[0m\u001b[0;34m'r'\u001b[0m\u001b[0;34m,\u001b[0m\u001b[0mencoding\u001b[0m\u001b[0;34m=\u001b[0m\u001b[0;34m'utf-8'\u001b[0m\u001b[0;34m)\u001b[0m\u001b[0;34m\u001b[0m\u001b[0;34m\u001b[0m\u001b[0m\n\u001b[0m\u001b[1;32m      3\u001b[0m \u001b[0;32mfor\u001b[0m \u001b[0mline\u001b[0m \u001b[0;32min\u001b[0m \u001b[0mtqdm\u001b[0m\u001b[0;34m(\u001b[0m\u001b[0mglovefile\u001b[0m\u001b[0;34m)\u001b[0m\u001b[0;34m:\u001b[0m\u001b[0;34m\u001b[0m\u001b[0;34m\u001b[0m\u001b[0m\n\u001b[1;32m      4\u001b[0m     \u001b[0mvalues\u001b[0m \u001b[0;34m=\u001b[0m \u001b[0mline\u001b[0m\u001b[0;34m.\u001b[0m\u001b[0msplit\u001b[0m\u001b[0;34m(\u001b[0m\u001b[0;34m\" \"\u001b[0m\u001b[0;34m)\u001b[0m\u001b[0;34m\u001b[0m\u001b[0;34m\u001b[0m\u001b[0m\n\u001b[1;32m      5\u001b[0m     \u001b[0mword\u001b[0m \u001b[0;34m=\u001b[0m \u001b[0mvalues\u001b[0m\u001b[0;34m[\u001b[0m\u001b[0;36m0\u001b[0m\u001b[0;34m]\u001b[0m\u001b[0;34m\u001b[0m\u001b[0;34m\u001b[0m\u001b[0m\n",
      "\u001b[0;31mFileNotFoundError\u001b[0m: [Errno 2] No such file or directory: '../input/glove6b200d/glove.6B.200d.txt'"
     ]
    }
   ],
   "source": [
    "embeddings_index = {}\n",
    "glovefile = open('../input/glove6b200d/glove.6B.200d.txt','r',encoding='utf-8')\n",
    "for line in tqdm(glovefile):\n",
    "    values = line.split(\" \")\n",
    "    word = values[0]\n",
    "    coefs = np.asarray(values[1:], dtype='float32')\n",
    "#     coefs.shape\n",
    "    embeddings_index[word] = coefs\n",
    "glovefile.close()\n",
    "\n",
    "print('Found %s word vectors.' % len(embeddings_index))"
   ]
  },
  {
   "cell_type": "code",
   "execution_count": 43,
   "metadata": {
    "colab": {
     "base_uri": "https://localhost:8080/",
     "height": 228
    },
    "execution": {
     "iopub.execute_input": "2021-04-30T14:18:58.208991Z",
     "iopub.status.busy": "2021-04-30T14:18:58.208197Z",
     "iopub.status.idle": "2021-04-30T14:18:58.258944Z",
     "shell.execute_reply": "2021-04-30T14:18:58.259506Z"
    },
    "id": "rPPBD6U62Ijd",
    "outputId": "d668a6a8-bba8-47ce-c375-cbcda5f0792c",
    "papermill": {
     "duration": 0.177185,
     "end_time": "2021-04-30T14:18:58.259662",
     "exception": false,
     "start_time": "2021-04-30T14:18:58.082477",
     "status": "completed"
    },
    "tags": []
   },
   "outputs": [
    {
     "name": "stderr",
     "output_type": "stream",
     "text": [
      "  0%|          | 0/2342 [00:00<?, ?it/s]\n"
     ]
    },
    {
     "ename": "NameError",
     "evalue": "name 'embeddings_index' is not defined",
     "output_type": "error",
     "traceback": [
      "\u001b[0;31m---------------------------------------------------------------------------\u001b[0m",
      "\u001b[0;31mNameError\u001b[0m                                 Traceback (most recent call last)",
      "\u001b[0;32m<ipython-input-43-d491cd97f50d>\u001b[0m in \u001b[0;36m<cell line: 3>\u001b[0;34m()\u001b[0m\n\u001b[1;32m      2\u001b[0m \u001b[0membedding_matrix\u001b[0m \u001b[0;34m=\u001b[0m \u001b[0mnp\u001b[0m\u001b[0;34m.\u001b[0m\u001b[0mzeros\u001b[0m\u001b[0;34m(\u001b[0m\u001b[0;34m(\u001b[0m\u001b[0mlen\u001b[0m\u001b[0;34m(\u001b[0m\u001b[0mtokenizer\u001b[0m\u001b[0;34m.\u001b[0m\u001b[0mword_index\u001b[0m\u001b[0;34m)\u001b[0m\u001b[0;34m+\u001b[0m\u001b[0;36m1\u001b[0m\u001b[0;34m,\u001b[0m \u001b[0;36m200\u001b[0m\u001b[0;34m)\u001b[0m\u001b[0;34m)\u001b[0m\u001b[0;34m\u001b[0m\u001b[0;34m\u001b[0m\u001b[0m\n\u001b[1;32m      3\u001b[0m \u001b[0;32mfor\u001b[0m \u001b[0mwords\u001b[0m\u001b[0;34m,\u001b[0m \u001b[0mindex\u001b[0m \u001b[0;32min\u001b[0m \u001b[0mtqdm\u001b[0m\u001b[0;34m(\u001b[0m\u001b[0mtokenizer\u001b[0m\u001b[0;34m.\u001b[0m\u001b[0mword_index\u001b[0m\u001b[0;34m.\u001b[0m\u001b[0mitems\u001b[0m\u001b[0;34m(\u001b[0m\u001b[0;34m)\u001b[0m\u001b[0;34m)\u001b[0m\u001b[0;34m:\u001b[0m\u001b[0;34m\u001b[0m\u001b[0;34m\u001b[0m\u001b[0m\n\u001b[0;32m----> 4\u001b[0;31m     \u001b[0membedding_vector\u001b[0m \u001b[0;34m=\u001b[0m \u001b[0membeddings_index\u001b[0m\u001b[0;34m.\u001b[0m\u001b[0mget\u001b[0m\u001b[0;34m(\u001b[0m\u001b[0mword\u001b[0m\u001b[0;34m)\u001b[0m\u001b[0;34m\u001b[0m\u001b[0;34m\u001b[0m\u001b[0m\n\u001b[0m\u001b[1;32m      5\u001b[0m     \u001b[0;32mif\u001b[0m \u001b[0membedding_vector\u001b[0m \u001b[0;32mis\u001b[0m \u001b[0;32mnot\u001b[0m \u001b[0;32mNone\u001b[0m\u001b[0;34m:\u001b[0m\u001b[0;34m\u001b[0m\u001b[0;34m\u001b[0m\u001b[0m\n\u001b[1;32m      6\u001b[0m         \u001b[0membedding_matrix\u001b[0m\u001b[0;34m[\u001b[0m\u001b[0mindex\u001b[0m\u001b[0;34m]\u001b[0m \u001b[0;34m=\u001b[0m \u001b[0membedding_vector\u001b[0m\u001b[0;34m\u001b[0m\u001b[0;34m\u001b[0m\u001b[0m\n",
      "\u001b[0;31mNameError\u001b[0m: name 'embeddings_index' is not defined"
     ]
    }
   ],
   "source": [
    "#creating embedding matrix for the words we have in the dataset\n",
    "embedding_matrix = np.zeros((len(tokenizer.word_index)+1, 200))\n",
    "for words, index in tqdm(tokenizer.word_index.items()):\n",
    "    embedding_vector = embeddings_index.get(word)\n",
    "    if embedding_vector is not None:\n",
    "        embedding_matrix[index] = embedding_vector"
   ]
  },
  {
   "cell_type": "code",
   "execution_count": 44,
   "metadata": {
    "colab": {
     "base_uri": "https://localhost:8080/",
     "height": 339
    },
    "execution": {
     "iopub.execute_input": "2021-04-30T14:18:58.507736Z",
     "iopub.status.busy": "2021-04-30T14:18:58.507011Z",
     "iopub.status.idle": "2021-04-30T14:18:58.520842Z",
     "shell.execute_reply": "2021-04-30T14:18:58.521519Z"
    },
    "id": "2DZzLMvY2Ijd",
    "outputId": "6bc06699-873a-4d87-a6a7-eaddf7a86cc9",
    "papermill": {
     "duration": 0.141383,
     "end_time": "2021-04-30T14:18:58.521696",
     "exception": false,
     "start_time": "2021-04-30T14:18:58.380313",
     "status": "completed"
    },
    "tags": []
   },
   "outputs": [
    {
     "ename": "ValueError",
     "evalue": "Found input variables with inconsistent numbers of samples: [578, 578, 723]",
     "output_type": "error",
     "traceback": [
      "\u001b[0;31m---------------------------------------------------------------------------\u001b[0m",
      "\u001b[0;31mValueError\u001b[0m                                Traceback (most recent call last)",
      "\u001b[0;32m<ipython-input-44-3ae20aa6f527>\u001b[0m in \u001b[0;36m<cell line: 1>\u001b[0;34m()\u001b[0m\n\u001b[0;32m----> 1\u001b[0;31m \u001b[0mX_train_q1\u001b[0m\u001b[0;34m,\u001b[0m\u001b[0mX_valid_q1\u001b[0m\u001b[0;34m,\u001b[0m \u001b[0mX_train_q2\u001b[0m\u001b[0;34m,\u001b[0m \u001b[0mX_valid_q2\u001b[0m\u001b[0;34m,\u001b[0m \u001b[0my_train\u001b[0m\u001b[0;34m,\u001b[0m \u001b[0my_valid\u001b[0m \u001b[0;34m=\u001b[0m \u001b[0mtrain_test_split\u001b[0m\u001b[0;34m(\u001b[0m\u001b[0mX_train_q1\u001b[0m\u001b[0;34m,\u001b[0m \u001b[0mX_train_q2\u001b[0m\u001b[0;34m,\u001b[0m \u001b[0my\u001b[0m\u001b[0;34m,\u001b[0m \u001b[0mtest_size\u001b[0m\u001b[0;34m=\u001b[0m\u001b[0;36m0.20\u001b[0m\u001b[0;34m,\u001b[0m \u001b[0mrandom_state\u001b[0m\u001b[0;34m=\u001b[0m\u001b[0;36m12\u001b[0m\u001b[0;34m)\u001b[0m\u001b[0;34m\u001b[0m\u001b[0;34m\u001b[0m\u001b[0m\n\u001b[0m\u001b[1;32m      2\u001b[0m \u001b[0mprint\u001b[0m\u001b[0;34m(\u001b[0m\u001b[0mX_train_q1\u001b[0m\u001b[0;34m.\u001b[0m\u001b[0mshape\u001b[0m\u001b[0;34m,\u001b[0m \u001b[0mX_train_q2\u001b[0m\u001b[0;34m.\u001b[0m\u001b[0mshape\u001b[0m\u001b[0;34m,\u001b[0m \u001b[0my_train\u001b[0m\u001b[0;34m.\u001b[0m\u001b[0mshape\u001b[0m\u001b[0;34m)\u001b[0m\u001b[0;34m\u001b[0m\u001b[0;34m\u001b[0m\u001b[0m\n\u001b[1;32m      3\u001b[0m \u001b[0mprint\u001b[0m\u001b[0;34m(\u001b[0m\u001b[0mX_valid_q1\u001b[0m\u001b[0;34m.\u001b[0m\u001b[0mshape\u001b[0m\u001b[0;34m,\u001b[0m \u001b[0mX_valid_q2\u001b[0m\u001b[0;34m.\u001b[0m\u001b[0mshape\u001b[0m\u001b[0;34m,\u001b[0m \u001b[0my_valid\u001b[0m\u001b[0;34m.\u001b[0m\u001b[0mshape\u001b[0m\u001b[0;34m)\u001b[0m\u001b[0;34m\u001b[0m\u001b[0;34m\u001b[0m\u001b[0m\n",
      "\u001b[0;32m/usr/local/lib/python3.10/dist-packages/sklearn/model_selection/_split.py\u001b[0m in \u001b[0;36mtrain_test_split\u001b[0;34m(test_size, train_size, random_state, shuffle, stratify, *arrays)\u001b[0m\n\u001b[1;32m   2557\u001b[0m         \u001b[0;32mraise\u001b[0m \u001b[0mValueError\u001b[0m\u001b[0;34m(\u001b[0m\u001b[0;34m\"At least one array required as input\"\u001b[0m\u001b[0;34m)\u001b[0m\u001b[0;34m\u001b[0m\u001b[0;34m\u001b[0m\u001b[0m\n\u001b[1;32m   2558\u001b[0m \u001b[0;34m\u001b[0m\u001b[0m\n\u001b[0;32m-> 2559\u001b[0;31m     \u001b[0marrays\u001b[0m \u001b[0;34m=\u001b[0m \u001b[0mindexable\u001b[0m\u001b[0;34m(\u001b[0m\u001b[0;34m*\u001b[0m\u001b[0marrays\u001b[0m\u001b[0;34m)\u001b[0m\u001b[0;34m\u001b[0m\u001b[0;34m\u001b[0m\u001b[0m\n\u001b[0m\u001b[1;32m   2560\u001b[0m \u001b[0;34m\u001b[0m\u001b[0m\n\u001b[1;32m   2561\u001b[0m     \u001b[0mn_samples\u001b[0m \u001b[0;34m=\u001b[0m \u001b[0m_num_samples\u001b[0m\u001b[0;34m(\u001b[0m\u001b[0marrays\u001b[0m\u001b[0;34m[\u001b[0m\u001b[0;36m0\u001b[0m\u001b[0;34m]\u001b[0m\u001b[0;34m)\u001b[0m\u001b[0;34m\u001b[0m\u001b[0;34m\u001b[0m\u001b[0m\n",
      "\u001b[0;32m/usr/local/lib/python3.10/dist-packages/sklearn/utils/validation.py\u001b[0m in \u001b[0;36mindexable\u001b[0;34m(*iterables)\u001b[0m\n\u001b[1;32m    441\u001b[0m \u001b[0;34m\u001b[0m\u001b[0m\n\u001b[1;32m    442\u001b[0m     \u001b[0mresult\u001b[0m \u001b[0;34m=\u001b[0m \u001b[0;34m[\u001b[0m\u001b[0m_make_indexable\u001b[0m\u001b[0;34m(\u001b[0m\u001b[0mX\u001b[0m\u001b[0;34m)\u001b[0m \u001b[0;32mfor\u001b[0m \u001b[0mX\u001b[0m \u001b[0;32min\u001b[0m \u001b[0miterables\u001b[0m\u001b[0;34m]\u001b[0m\u001b[0;34m\u001b[0m\u001b[0;34m\u001b[0m\u001b[0m\n\u001b[0;32m--> 443\u001b[0;31m     \u001b[0mcheck_consistent_length\u001b[0m\u001b[0;34m(\u001b[0m\u001b[0;34m*\u001b[0m\u001b[0mresult\u001b[0m\u001b[0;34m)\u001b[0m\u001b[0;34m\u001b[0m\u001b[0;34m\u001b[0m\u001b[0m\n\u001b[0m\u001b[1;32m    444\u001b[0m     \u001b[0;32mreturn\u001b[0m \u001b[0mresult\u001b[0m\u001b[0;34m\u001b[0m\u001b[0;34m\u001b[0m\u001b[0m\n\u001b[1;32m    445\u001b[0m \u001b[0;34m\u001b[0m\u001b[0m\n",
      "\u001b[0;32m/usr/local/lib/python3.10/dist-packages/sklearn/utils/validation.py\u001b[0m in \u001b[0;36mcheck_consistent_length\u001b[0;34m(*arrays)\u001b[0m\n\u001b[1;32m    395\u001b[0m     \u001b[0muniques\u001b[0m \u001b[0;34m=\u001b[0m \u001b[0mnp\u001b[0m\u001b[0;34m.\u001b[0m\u001b[0munique\u001b[0m\u001b[0;34m(\u001b[0m\u001b[0mlengths\u001b[0m\u001b[0;34m)\u001b[0m\u001b[0;34m\u001b[0m\u001b[0;34m\u001b[0m\u001b[0m\n\u001b[1;32m    396\u001b[0m     \u001b[0;32mif\u001b[0m \u001b[0mlen\u001b[0m\u001b[0;34m(\u001b[0m\u001b[0muniques\u001b[0m\u001b[0;34m)\u001b[0m \u001b[0;34m>\u001b[0m \u001b[0;36m1\u001b[0m\u001b[0;34m:\u001b[0m\u001b[0;34m\u001b[0m\u001b[0;34m\u001b[0m\u001b[0m\n\u001b[0;32m--> 397\u001b[0;31m         raise ValueError(\n\u001b[0m\u001b[1;32m    398\u001b[0m             \u001b[0;34m\"Found input variables with inconsistent numbers of samples: %r\"\u001b[0m\u001b[0;34m\u001b[0m\u001b[0;34m\u001b[0m\u001b[0m\n\u001b[1;32m    399\u001b[0m             \u001b[0;34m%\u001b[0m \u001b[0;34m[\u001b[0m\u001b[0mint\u001b[0m\u001b[0;34m(\u001b[0m\u001b[0ml\u001b[0m\u001b[0;34m)\u001b[0m \u001b[0;32mfor\u001b[0m \u001b[0ml\u001b[0m \u001b[0;32min\u001b[0m \u001b[0mlengths\u001b[0m\u001b[0;34m]\u001b[0m\u001b[0;34m\u001b[0m\u001b[0;34m\u001b[0m\u001b[0m\n",
      "\u001b[0;31mValueError\u001b[0m: Found input variables with inconsistent numbers of samples: [578, 578, 723]"
     ]
    }
   ],
   "source": [
    "X_train_q1,X_valid_q1, X_train_q2, X_valid_q2, y_train, y_valid = train_test_split(X_train_q1, X_train_q2, y, test_size=0.20, random_state=12)\n",
    "print(X_train_q1.shape, X_train_q2.shape, y_train.shape)\n",
    "print(X_valid_q1.shape, X_valid_q2.shape, y_valid.shape)"
   ]
  },
  {
   "cell_type": "code",
   "execution_count": 48,
   "metadata": {
    "execution": {
     "iopub.execute_input": "2021-04-30T14:18:58.770313Z",
     "iopub.status.busy": "2021-04-30T14:18:58.769689Z",
     "iopub.status.idle": "2021-04-30T14:19:02.140305Z",
     "shell.execute_reply": "2021-04-30T14:19:02.139491Z"
    },
    "id": "rbQSq8Ed2Ije",
    "papermill": {
     "duration": 3.49752,
     "end_time": "2021-04-30T14:19:02.140437",
     "exception": false,
     "start_time": "2021-04-30T14:18:58.642917",
     "status": "completed"
    },
    "tags": []
   },
   "outputs": [],
   "source": [
    "# Model for Q1\n",
    "\n",
    "model_q1 = Sequential([Embedding(input_dim = vocab_size,output_dim = 200,weights = [embedding_matrix],input_length = 30),\n",
    "                      LSTM(128, activation = 'tanh', return_sequences = True),\n",
    "                      Dropout(0.2),\n",
    "                      LSTM(128, return_sequences = True),\n",
    "                      LSTM(128),\n",
    "                      Dense(60, activation = 'tanh'),\n",
    "                      Dense(2, activation = 'sigmoid')])"
   ]
  },
  {
   "cell_type": "code",
   "execution_count": 46,
   "metadata": {
    "execution": {
     "iopub.execute_input": "2021-04-30T14:19:02.392234Z",
     "iopub.status.busy": "2021-04-30T14:19:02.391640Z",
     "iopub.status.idle": "2021-04-30T14:19:03.001520Z",
     "shell.execute_reply": "2021-04-30T14:19:03.001930Z"
    },
    "id": "NfEjnO_p2Ije",
    "papermill": {
     "duration": 0.738899,
     "end_time": "2021-04-30T14:19:03.002132",
     "exception": false,
     "start_time": "2021-04-30T14:19:02.263233",
     "status": "completed"
    },
    "tags": []
   },
   "outputs": [],
   "source": [
    "# Model for Q2\n",
    "\n",
    "model_q2 = Sequential([Embedding(input_dim = vocab_size,output_dim = 200,weights = [embedding_matrix],input_length = 30),\n",
    "                      LSTM(128, activation = 'tanh', return_sequences = True),\n",
    "                      Dropout(0.2),\n",
    "                      LSTM(128, return_sequences = True),\n",
    "                      LSTM(128),\n",
    "                      Dense(60, activation = 'tanh'),\n",
    "                      Dense(2, activation = 'sigmoid')])"
   ]
  },
  {
   "cell_type": "code",
   "execution_count": 49,
   "metadata": {
    "execution": {
     "iopub.execute_input": "2021-04-30T14:19:03.256157Z",
     "iopub.status.busy": "2021-04-30T14:19:03.254937Z",
     "iopub.status.idle": "2021-04-30T14:19:03.283836Z",
     "shell.execute_reply": "2021-04-30T14:19:03.283368Z"
    },
    "id": "-2Iy9Lwa2Ijf",
    "papermill": {
     "duration": 0.158767,
     "end_time": "2021-04-30T14:19:03.283955",
     "exception": false,
     "start_time": "2021-04-30T14:19:03.125188",
     "status": "completed"
    },
    "tags": []
   },
   "outputs": [],
   "source": [
    "# Merging the output of the two models,i.e, model_q1 and model_q2\n",
    "mergedOut = multiply([model_q1.output, model_q2.output])\n",
    "\n",
    "mergedOut = Flatten()(mergedOut)\n",
    "mergedOut = Dense(100, activation = 'relu')(mergedOut)\n",
    "mergedOut = Dropout(0.2)(mergedOut)\n",
    "mergedOut = Dense(50, activation = 'relu')(mergedOut)\n",
    "mergedOut = Dropout(0.2)(mergedOut)\n",
    "mergedOut = Dense(2, activation = 'sigmoid')(mergedOut)"
   ]
  },
  {
   "cell_type": "code",
   "execution_count": 50,
   "metadata": {
    "execution": {
     "iopub.execute_input": "2021-04-30T14:19:03.533739Z",
     "iopub.status.busy": "2021-04-30T14:19:03.532906Z",
     "iopub.status.idle": "2021-04-30T14:19:03.548285Z",
     "shell.execute_reply": "2021-04-30T14:19:03.547793Z"
    },
    "id": "AZY7yV9J2Ijf",
    "papermill": {
     "duration": 0.142997,
     "end_time": "2021-04-30T14:19:03.548404",
     "exception": false,
     "start_time": "2021-04-30T14:19:03.405407",
     "status": "completed"
    },
    "tags": []
   },
   "outputs": [],
   "source": [
    "new_model = tf.keras.Model([model_q1.input, model_q2.input], mergedOut)\n",
    "new_model.compile(optimizer = 'adam', loss = 'sparse_categorical_crossentropy',\n",
    "                 metrics = ['accuracy'])"
   ]
  },
  {
   "cell_type": "code",
   "execution_count": 51,
   "metadata": {
    "colab": {
     "base_uri": "https://localhost:8080/"
    },
    "execution": {
     "iopub.execute_input": "2021-04-30T14:19:03.800271Z",
     "iopub.status.busy": "2021-04-30T14:19:03.797351Z",
     "iopub.status.idle": "2021-04-30T14:19:03.810440Z",
     "shell.execute_reply": "2021-04-30T14:19:03.809836Z"
    },
    "id": "z64O2w_L2Ijf",
    "outputId": "3427c8a7-ca5d-4802-facc-c8212d9d5016",
    "papermill": {
     "duration": 0.140632,
     "end_time": "2021-04-30T14:19:03.810588",
     "exception": false,
     "start_time": "2021-04-30T14:19:03.669956",
     "status": "completed"
    },
    "tags": []
   },
   "outputs": [
    {
     "name": "stdout",
     "output_type": "stream",
     "text": [
      "Model: \"model\"\n",
      "__________________________________________________________________________________________________\n",
      " Layer (type)                Output Shape                 Param #   Connected to                  \n",
      "==================================================================================================\n",
      " embedding_1_input (InputLa  [(None, 30)]                 0         []                            \n",
      " yer)                                                                                             \n",
      "                                                                                                  \n",
      " embedding_input (InputLaye  [(None, 30)]                 0         []                            \n",
      " r)                                                                                               \n",
      "                                                                                                  \n",
      " embedding_1 (Embedding)     (None, 30, 200)              468600    ['embedding_1_input[0][0]']   \n",
      "                                                                                                  \n",
      " embedding (Embedding)       (None, 30, 200)              468600    ['embedding_input[0][0]']     \n",
      "                                                                                                  \n",
      " lstm_3 (LSTM)               (None, 30, 128)              168448    ['embedding_1[0][0]']         \n",
      "                                                                                                  \n",
      " lstm (LSTM)                 (None, 30, 128)              168448    ['embedding[0][0]']           \n",
      "                                                                                                  \n",
      " dropout_1 (Dropout)         (None, 30, 128)              0         ['lstm_3[0][0]']              \n",
      "                                                                                                  \n",
      " dropout (Dropout)           (None, 30, 128)              0         ['lstm[0][0]']                \n",
      "                                                                                                  \n",
      " lstm_4 (LSTM)               (None, 30, 128)              131584    ['dropout_1[0][0]']           \n",
      "                                                                                                  \n",
      " lstm_1 (LSTM)               (None, 30, 128)              131584    ['dropout[0][0]']             \n",
      "                                                                                                  \n",
      " lstm_5 (LSTM)               (None, 128)                  131584    ['lstm_4[0][0]']              \n",
      "                                                                                                  \n",
      " lstm_2 (LSTM)               (None, 128)                  131584    ['lstm_1[0][0]']              \n",
      "                                                                                                  \n",
      " dense_2 (Dense)             (None, 60)                   7740      ['lstm_5[0][0]']              \n",
      "                                                                                                  \n",
      " dense (Dense)               (None, 60)                   7740      ['lstm_2[0][0]']              \n",
      "                                                                                                  \n",
      " dense_3 (Dense)             (None, 2)                    122       ['dense_2[0][0]']             \n",
      "                                                                                                  \n",
      " dense_1 (Dense)             (None, 2)                    122       ['dense[0][0]']               \n",
      "                                                                                                  \n",
      " multiply (Multiply)         (None, 2)                    0         ['dense_3[0][0]',             \n",
      "                                                                     'dense_1[0][0]']             \n",
      "                                                                                                  \n",
      " flatten (Flatten)           (None, 2)                    0         ['multiply[0][0]']            \n",
      "                                                                                                  \n",
      " dense_4 (Dense)             (None, 100)                  300       ['flatten[0][0]']             \n",
      "                                                                                                  \n",
      " dropout_2 (Dropout)         (None, 100)                  0         ['dense_4[0][0]']             \n",
      "                                                                                                  \n",
      " dense_5 (Dense)             (None, 50)                   5050      ['dropout_2[0][0]']           \n",
      "                                                                                                  \n",
      " dropout_3 (Dropout)         (None, 50)                   0         ['dense_5[0][0]']             \n",
      "                                                                                                  \n",
      " dense_6 (Dense)             (None, 2)                    102       ['dropout_3[0][0]']           \n",
      "                                                                                                  \n",
      "==================================================================================================\n",
      "Total params: 1821608 (6.95 MB)\n",
      "Trainable params: 1821608 (6.95 MB)\n",
      "Non-trainable params: 0 (0.00 Byte)\n",
      "__________________________________________________________________________________________________\n"
     ]
    }
   ],
   "source": [
    "new_model.summary()"
   ]
  },
  {
   "cell_type": "code",
   "execution_count": null,
   "metadata": {
    "execution": {
     "iopub.execute_input": "2021-04-30T14:19:04.060132Z",
     "iopub.status.busy": "2021-04-30T14:19:04.059591Z",
     "iopub.status.idle": "2021-04-30T14:20:00.056675Z",
     "shell.execute_reply": "2021-04-30T14:20:00.055725Z"
    },
    "id": "JxW1aKF92Ijg",
    "outputId": "bbd670b9-c886-4868-ca36-e3d91bb6d5fc",
    "papermill": {
     "duration": 56.123688,
     "end_time": "2021-04-30T14:20:00.056812",
     "exception": false,
     "start_time": "2021-04-30T14:19:03.933124",
     "status": "completed"
    },
    "tags": []
   },
   "outputs": [
    {
     "name": "stdout",
     "output_type": "stream",
     "text": [
      "Epoch 1/20\n",
      "12/12 [==============================] - 14s 387ms/step - loss: 0.6921 - accuracy: 0.5160 - val_loss: 0.6821 - val_accuracy: 0.5872\n",
      "Epoch 2/20\n",
      "12/12 [==============================] - 2s 201ms/step - loss: 0.6852 - accuracy: 0.5632 - val_loss: 0.6746 - val_accuracy: 0.5860\n",
      "Epoch 3/20\n",
      "12/12 [==============================] - 2s 182ms/step - loss: 0.6767 - accuracy: 0.5819 - val_loss: 0.6737 - val_accuracy: 0.5776\n",
      "Epoch 4/20\n",
      "12/12 [==============================] - 2s 181ms/step - loss: 0.6739 - accuracy: 0.5812 - val_loss: 0.6585 - val_accuracy: 0.6120\n",
      "Epoch 5/20\n",
      "12/12 [==============================] - 2s 187ms/step - loss: 0.6527 - accuracy: 0.6228 - val_loss: 0.6387 - val_accuracy: 0.6594\n",
      "Epoch 6/20\n",
      "12/12 [==============================] - 2s 194ms/step - loss: 0.5972 - accuracy: 0.7018 - val_loss: 0.6228 - val_accuracy: 0.6663\n",
      "Epoch 7/20\n",
      "12/12 [==============================] - 2s 181ms/step - loss: 0.5200 - accuracy: 0.7619 - val_loss: 0.6354 - val_accuracy: 0.6595\n",
      "Epoch 8/20\n",
      "12/12 [==============================] - 2s 182ms/step - loss: 0.4728 - accuracy: 0.7950 - val_loss: 0.6377 - val_accuracy: 0.6831\n",
      "Epoch 9/20\n",
      "12/12 [==============================] - 2s 187ms/step - loss: 0.4114 - accuracy: 0.8312 - val_loss: 0.6596 - val_accuracy: 0.6772\n",
      "Epoch 10/20\n",
      "12/12 [==============================] - 2s 182ms/step - loss: 0.3725 - accuracy: 0.8535 - val_loss: 0.7080 - val_accuracy: 0.6776\n",
      "Epoch 11/20\n",
      "12/12 [==============================] - 2s 192ms/step - loss: 0.3439 - accuracy: 0.8669 - val_loss: 0.7241 - val_accuracy: 0.6718\n",
      "Epoch 12/20\n",
      "12/12 [==============================] - 2s 187ms/step - loss: 0.3588 - accuracy: 0.8609 - val_loss: 0.7304 - val_accuracy: 0.6813\n",
      "Epoch 13/20\n",
      "12/12 [==============================] - 2s 184ms/step - loss: 0.3268 - accuracy: 0.8718 - val_loss: 0.7343 - val_accuracy: 0.6644\n",
      "Epoch 14/20\n",
      "12/12 [==============================] - 2s 181ms/step - loss: 0.3010 - accuracy: 0.8889 - val_loss: 0.7646 - val_accuracy: 0.6634\n",
      "Epoch 15/20\n",
      "12/12 [==============================] - 2s 182ms/step - loss: 0.2804 - accuracy: 0.9004 - val_loss: 0.7966 - val_accuracy: 0.6637\n",
      "Epoch 16/20\n",
      "12/12 [==============================] - 2s 209ms/step - loss: 0.2663 - accuracy: 0.9062 - val_loss: 0.8798 - val_accuracy: 0.6621\n",
      "Epoch 17/20\n",
      "12/12 [==============================] - 2s 192ms/step - loss: 0.2407 - accuracy: 0.9163 - val_loss: 0.9219 - val_accuracy: 0.6636\n",
      "Epoch 18/20\n",
      "12/12 [==============================] - 2s 183ms/step - loss: 0.2259 - accuracy: 0.9205 - val_loss: 0.9651 - val_accuracy: 0.6690\n",
      "Epoch 19/20\n",
      "12/12 [==============================] - 2s 185ms/step - loss: 0.2154 - accuracy: 0.9250 - val_loss: 0.9931 - val_accuracy: 0.6707\n",
      "Epoch 20/20\n",
      "12/12 [==============================] - 2s 180ms/step - loss: 0.2003 - accuracy: 0.9294 - val_loss: 1.0383 - val_accuracy: 0.6745\n"
     ]
    }
   ],
   "source": [
    "history = new_model.fit([X_train_q1,X_train_q2],y_train, batch_size = 2000, epochs = 20, validation_data = ([X_valid_q1,X_valid_q2],y_valid))"
   ]
  },
  {
   "cell_type": "code",
   "execution_count": null,
   "metadata": {
    "execution": {
     "iopub.execute_input": "2021-04-30T14:20:00.465350Z",
     "iopub.status.busy": "2021-04-30T14:20:00.462468Z",
     "iopub.status.idle": "2021-04-30T14:20:00.767142Z",
     "shell.execute_reply": "2021-04-30T14:20:00.766323Z"
    },
    "id": "k-ux8gVI2Ijg",
    "outputId": "b3108f61-371e-40e7-e950-a62cde24f735",
    "papermill": {
     "duration": 0.51666,
     "end_time": "2021-04-30T14:20:00.767339",
     "exception": false,
     "start_time": "2021-04-30T14:20:00.250679",
     "status": "completed"
    },
    "tags": []
   },
   "outputs": [
    {
     "data": {
      "image/png": "[encoded data removed]",
      "text/plain": [
       "<Figure size 432x288 with 1 Axes>"
      ]
     },
     "metadata": {
      "needs_background": "light"
     },
     "output_type": "display_data"
    },
    {
     "data": {
      "image/png": "[encoded data removed]",
      "text/plain": [
       "<Figure size 432x288 with 1 Axes>"
      ]
     },
     "metadata": {
      "needs_background": "light"
     },
     "output_type": "display_data"
    }
   ],
   "source": [
    "accuracy = history.history[\"accuracy\"]\n",
    "loss = history.history[\"loss\"]\n",
    "\n",
    "val_accuracy = history.history[\"val_accuracy\"]\n",
    "val_loss = history.history[\"val_loss\"]\n",
    "\n",
    "#plot\n",
    "plt.plot(accuracy,'g',label='training accuracy')\n",
    "plt.plot(val_accuracy, 'r', label='validation accuracy')\n",
    "plt.legend()\n",
    "plt.show()\n",
    "\n",
    "\n",
    "plt.plot(loss,'g',label='training loss')\n",
    "plt.plot(val_loss, 'r', label='validation loss')\n",
    "plt.legend()\n",
    "plt.show()"
   ]
  },
  {
   "cell_type": "code",
   "execution_count": 52,
   "metadata": {
    "colab": {
     "base_uri": "https://localhost:8080/"
    },
    "execution": {
     "iopub.execute_input": "2021-04-30T14:20:01.371761Z",
     "iopub.status.busy": "2021-04-30T14:20:01.370897Z",
     "iopub.status.idle": "2021-04-30T14:20:10.783721Z",
     "shell.execute_reply": "2021-04-30T14:20:10.783249Z"
    },
    "id": "Rwv4WuU32Ijg",
    "outputId": "aedcbbd8-8954-4a7b-824a-367901cf46d7",
    "papermill": {
     "duration": 9.684496,
     "end_time": "2021-04-30T14:20:10.783871",
     "exception": false,
     "start_time": "2021-04-30T14:20:01.099375",
     "status": "completed"
    },
    "tags": []
   },
   "outputs": [
    {
     "name": "stdout",
     "output_type": "stream",
     "text": [
      "127/127 [==============================] - 16s 99ms/step\n"
     ]
    }
   ],
   "source": [
    "y_pred = new_model.predict([X_test_q1, X_test_q2])"
   ]
  },
  {
   "cell_type": "code",
   "execution_count": 53,
   "metadata": {
    "colab": {
     "base_uri": "https://localhost:8080/"
    },
    "execution": {
     "iopub.execute_input": "2021-04-30T14:20:11.178575Z",
     "iopub.status.busy": "2021-04-30T14:20:11.177951Z",
     "iopub.status.idle": "2021-04-30T14:20:11.183593Z",
     "shell.execute_reply": "2021-04-30T14:20:11.183179Z"
    },
    "id": "kiWQjQV72Ijo",
    "outputId": "8a81dc76-dfc0-4185-b5ad-f8ece848a20f",
    "papermill": {
     "duration": 0.204094,
     "end_time": "2021-04-30T14:20:11.183709",
     "exception": false,
     "start_time": "2021-04-30T14:20:10.979615",
     "status": "completed"
    },
    "tags": []
   },
   "outputs": [
    {
     "data": {
      "text/plain": [
       "array([1, 1, 1, 1, 1, 1, 1, 1, 1, 1])"
      ]
     },
     "execution_count": 53,
     "metadata": {},
     "output_type": "execute_result"
    }
   ],
   "source": [
    "np.argmax(y_pred[:10], axis=-1)"
   ]
  },
  {
   "cell_type": "code",
   "execution_count": 54,
   "metadata": {
    "colab": {
     "base_uri": "https://localhost:8080/",
     "height": 310
    },
    "id": "8g9B3RTz9dJY",
    "outputId": "580e7c4e-75db-4aa0-df15-82d138d5c0cf"
   },
   "outputs": [
    {
     "data": {
      "application/vnd.google.colaboratory.intrinsic+json": {
       "summary": "{\n  \"name\": \"train_data\",\n  \"rows\": 723,\n  \"fields\": [\n    {\n      \"column\": \"question1\",\n      \"properties\": {\n        \"dtype\": \"string\",\n        \"num_unique_values\": 723,\n        \"samples\": [\n          \"can I use magnets to push an object in motion away from another object in motion using repulsion?\",\n          \"What colors are most trustworthy?\",\n          \"Can anyone become good at mathematics?\"\n        ],\n        \"semantic_type\": \"\",\n        \"description\": \"\"\n      }\n    },\n    {\n      \"column\": \"question2\",\n      \"properties\": {\n        \"dtype\": \"string\",\n        \"num_unique_values\": 721,\n        \"samples\": [\n          \"Why should we avoid hot tea in plastic cup?\",\n          \"What online platforms can I post ads for beer money opportunity?\",\n          \"Why does Stone Cold Steve Austin wear a knee brace?\"\n        ],\n        \"semantic_type\": \"\",\n        \"description\": \"\"\n      }\n    },\n    {\n      \"column\": \"is_duplicate\",\n      \"properties\": {\n        \"dtype\": \"number\",\n        \"std\": 0.4910122343247072,\n        \"min\": 0.0,\n        \"max\": 1.0,\n        \"num_unique_values\": 2,\n        \"samples\": [\n          1.0,\n          0.0\n        ],\n        \"semantic_type\": \"\",\n        \"description\": \"\"\n      }\n    },\n    {\n      \"column\": \"q1\",\n      \"properties\": {\n        \"dtype\": \"string\",\n        \"num_unique_values\": 723,\n        \"samples\": [\n          \"magnet push object motion away another object motion use repulsion\",\n          \"color trustworthy\"\n        ],\n        \"semantic_type\": \"\",\n        \"description\": \"\"\n      }\n    },\n    {\n      \"column\": \"q2\",\n      \"properties\": {\n        \"dtype\": \"string\",\n        \"num_unique_values\": 720,\n        \"samples\": [\n          \"best site download series\",\n          \"apply vicks vapor treat stuffy nose\"\n        ],\n        \"semantic_type\": \"\",\n        \"description\": \"\"\n      }\n    }\n  ]\n}",
       "type": "dataframe",
       "variable_name": "train_data"
      },
      "text/html": [
       "\n",
       "  <div id=\"df-f4d479ab-1934-4a67-b87f-40726d305ec7\" class=\"colab-df-container\">\n",
       "    <div>\n",
       "<style scoped>\n",
       "    .dataframe tbody tr th:only-of-type {\n",
       "        vertical-align: middle;\n",
       "    }\n",
       "\n",
       "    .dataframe tbody tr th {\n",
       "        vertical-align: top;\n",
       "    }\n",
       "\n",
       "    .dataframe thead th {\n",
       "        text-align: right;\n",
       "    }\n",
       "</style>\n",
       "<table border=\"1\" class=\"dataframe\">\n",
       "  <thead>\n",
       "    <tr style=\"text-align: right;\">\n",
       "      <th></th>\n",
       "      <th>question1</th>\n",
       "      <th>question2</th>\n",
       "      <th>is_duplicate</th>\n",
       "      <th>q1</th>\n",
       "      <th>q2</th>\n",
       "    </tr>\n",
       "  </thead>\n",
       "  <tbody>\n",
       "    <tr>\n",
       "      <th>0</th>\n",
       "      <td>How can I use auction sites as a hobby?</td>\n",
       "      <td>THE best &amp; POWERFUL ASTROLOGER in Singapore-GU...</td>\n",
       "      <td>0.0</td>\n",
       "      <td>auction site hobby</td>\n",
       "      <td>best powerful astrologer singaporeguru</td>\n",
       "    </tr>\n",
       "    <tr>\n",
       "      <th>1</th>\n",
       "      <td>What is the first law of thermodynamics and wh...</td>\n",
       "      <td>What are the applications of the first law of ...</td>\n",
       "      <td>0.0</td>\n",
       "      <td>first thermodynamics example</td>\n",
       "      <td>application first thermodynamics</td>\n",
       "    </tr>\n",
       "    <tr>\n",
       "      <th>2</th>\n",
       "      <td>What defines a shallow person?</td>\n",
       "      <td>How do you define someone as being a good person?</td>\n",
       "      <td>0.0</td>\n",
       "      <td>defines shallow person</td>\n",
       "      <td>define someone good person</td>\n",
       "    </tr>\n",
       "    <tr>\n",
       "      <th>3</th>\n",
       "      <td>How do you improve your writing skills?</td>\n",
       "      <td>How do I improve my writing skills?</td>\n",
       "      <td>1.0</td>\n",
       "      <td>improve write skill</td>\n",
       "      <td>improve write skill</td>\n",
       "    </tr>\n",
       "    <tr>\n",
       "      <th>4</th>\n",
       "      <td>I think my friends are jealous. What do I do?</td>\n",
       "      <td>My friends are jealous, What should I do?</td>\n",
       "      <td>0.0</td>\n",
       "      <td>think friend jealous</td>\n",
       "      <td>friend jealous</td>\n",
       "    </tr>\n",
       "  </tbody>\n",
       "</table>\n",
       "</div>\n",
       "    <div class=\"colab-df-buttons\">\n",
       "\n",
       "  <div class=\"colab-df-container\">\n",
       "    <button class=\"colab-df-convert\" onclick=\"convertToInteractive('df-f4d479ab-1934-4a67-b87f-40726d305ec7')\"\n",
       "            title=\"Convert this dataframe to an interactive table.\"\n",
       "            style=\"display:none;\">\n",
       "\n",
       "  <svg xmlns=\"http://www.w3.org/2000/svg\" height=\"24px\" viewBox=\"0 -960 960 960\">\n",
       "    <path d=\"M120-120v-720h720v720H120Zm60-500h600v-160H180v160Zm220 220h160v-160H400v160Zm0 220h160v-160H400v160ZM180-400h160v-160H180v160Zm440 0h160v-160H620v160ZM180-180h160v-160H180v160Zm440 0h160v-160H620v160Z\"/>\n",
       "  </svg>\n",
       "    </button>\n",
       "\n",
       "  <style>\n",
       "    .colab-df-container {\n",
       "      display:flex;\n",
       "      gap: 12px;\n",
       "    }\n",
       "\n",
       "    .colab-df-convert {\n",
       "      background-color: #E8F0FE;\n",
       "      border: none;\n",
       "      border-radius: 50%;\n",
       "      cursor: pointer;\n",
       "      display: none;\n",
       "      fill: #1967D2;\n",
       "      height: 32px;\n",
       "      padding: 0 0 0 0;\n",
       "      width: 32px;\n",
       "    }\n",
       "\n",
       "    .colab-df-convert:hover {\n",
       "      background-color: #E2EBFA;\n",
       "      box-shadow: 0px 1px 2px rgba(60, 64, 67, 0.3), 0px 1px 3px 1px rgba(60, 64, 67, 0.15);\n",
       "      fill: #174EA6;\n",
       "    }\n",
       "\n",
       "    .colab-df-buttons div {\n",
       "      margin-bottom: 4px;\n",
       "    }\n",
       "\n",
       "    [theme=dark] .colab-df-convert {\n",
       "      background-color: #3B4455;\n",
       "      fill: #D2E3FC;\n",
       "    }\n",
       "\n",
       "    [theme=dark] .colab-df-convert:hover {\n",
       "      background-color: #434B5C;\n",
       "      box-shadow: 0px 1px 3px 1px rgba(0, 0, 0, 0.15);\n",
       "      filter: drop-shadow(0px 1px 2px rgba(0, 0, 0, 0.3));\n",
       "      fill: #FFFFFF;\n",
       "    }\n",
       "  </style>\n",
       "\n",
       "    <script>\n",
       "      const buttonEl =\n",
       "        document.querySelector('#df-f4d479ab-1934-4a67-b87f-40726d305ec7 button.colab-df-convert');\n",
       "      buttonEl.style.display =\n",
       "        google.colab.kernel.accessAllowed ? 'block' : 'none';\n",
       "\n",
       "      async function convertToInteractive(key) {\n",
       "        const element = document.querySelector('#df-f4d479ab-1934-4a67-b87f-40726d305ec7');\n",
       "        const dataTable =\n",
       "          await google.colab.kernel.invokeFunction('convertToInteractive',\n",
       "                                                    [key], {});\n",
       "        if (!dataTable) return;\n",
       "\n",
       "        const docLinkHtml = 'Like what you see? Visit the ' +\n",
       "          '<a target=\"_blank\" href=https://colab.research.google.com/notebooks/data_table.ipynb>data table notebook</a>'\n",
       "          + ' to learn more about interactive tables.';\n",
       "        element.innerHTML = '';\n",
       "        dataTable['output_type'] = 'display_data';\n",
       "        await google.colab.output.renderOutput(dataTable, element);\n",
       "        const docLink = document.createElement('div');\n",
       "        docLink.innerHTML = docLinkHtml;\n",
       "        element.appendChild(docLink);\n",
       "      }\n",
       "    </script>\n",
       "  </div>\n",
       "\n",
       "\n",
       "<div id=\"df-dc2e4298-497b-4a79-b58c-ec81b86171e2\">\n",
       "  <button class=\"colab-df-quickchart\" onclick=\"quickchart('df-dc2e4298-497b-4a79-b58c-ec81b86171e2')\"\n",
       "            title=\"Suggest charts\"\n",
       "            style=\"display:none;\">\n",
       "\n",
       "<svg xmlns=\"http://www.w3.org/2000/svg\" height=\"24px\"viewBox=\"0 0 24 24\"\n",
       "     width=\"24px\">\n",
       "    <g>\n",
       "        <path d=\"M19 3H5c-1.1 0-2 .9-2 2v14c0 1.1.9 2 2 2h14c1.1 0 2-.9 2-2V5c0-1.1-.9-2-2-2zM9 17H7v-7h2v7zm4 0h-2V7h2v10zm4 0h-2v-4h2v4z\"/>\n",
       "    </g>\n",
       "</svg>\n",
       "  </button>\n",
       "\n",
       "<style>\n",
       "  .colab-df-quickchart {\n",
       "      --bg-color: #E8F0FE;\n",
       "      --fill-color: #1967D2;\n",
       "      --hover-bg-color: #E2EBFA;\n",
       "      --hover-fill-color: #174EA6;\n",
       "      --disabled-fill-color: #AAA;\n",
       "      --disabled-bg-color: #DDD;\n",
       "  }\n",
       "\n",
       "  [theme=dark] .colab-df-quickchart {\n",
       "      --bg-color: #3B4455;\n",
       "      --fill-color: #D2E3FC;\n",
       "      --hover-bg-color: #434B5C;\n",
       "      --hover-fill-color: #FFFFFF;\n",
       "      --disabled-bg-color: #3B4455;\n",
       "      --disabled-fill-color: #666;\n",
       "  }\n",
       "\n",
       "  .colab-df-quickchart {\n",
       "    background-color: var(--bg-color);\n",
       "    border: none;\n",
       "    border-radius: 50%;\n",
       "    cursor: pointer;\n",
       "    display: none;\n",
       "    fill: var(--fill-color);\n",
       "    height: 32px;\n",
       "    padding: 0;\n",
       "    width: 32px;\n",
       "  }\n",
       "\n",
       "  .colab-df-quickchart:hover {\n",
       "    background-color: var(--hover-bg-color);\n",
       "    box-shadow: 0 1px 2px rgba(60, 64, 67, 0.3), 0 1px 3px 1px rgba(60, 64, 67, 0.15);\n",
       "    fill: var(--button-hover-fill-color);\n",
       "  }\n",
       "\n",
       "  .colab-df-quickchart-complete:disabled,\n",
       "  .colab-df-quickchart-complete:disabled:hover {\n",
       "    background-color: var(--disabled-bg-color);\n",
       "    fill: var(--disabled-fill-color);\n",
       "    box-shadow: none;\n",
       "  }\n",
       "\n",
       "  .colab-df-spinner {\n",
       "    border: 2px solid var(--fill-color);\n",
       "    border-color: transparent;\n",
       "    border-bottom-color: var(--fill-color);\n",
       "    animation:\n",
       "      spin 1s steps(1) infinite;\n",
       "  }\n",
       "\n",
       "  @keyframes spin {\n",
       "    0% {\n",
       "      border-color: transparent;\n",
       "      border-bottom-color: var(--fill-color);\n",
       "      border-left-color: var(--fill-color);\n",
       "    }\n",
       "    20% {\n",
       "      border-color: transparent;\n",
       "      border-left-color: var(--fill-color);\n",
       "      border-top-color: var(--fill-color);\n",
       "    }\n",
       "    30% {\n",
       "      border-color: transparent;\n",
       "      border-left-color: var(--fill-color);\n",
       "      border-top-color: var(--fill-color);\n",
       "      border-right-color: var(--fill-color);\n",
       "    }\n",
       "    40% {\n",
       "      border-color: transparent;\n",
       "      border-right-color: var(--fill-color);\n",
       "      border-top-color: var(--fill-color);\n",
       "    }\n",
       "    60% {\n",
       "      border-color: transparent;\n",
       "      border-right-color: var(--fill-color);\n",
       "    }\n",
       "    80% {\n",
       "      border-color: transparent;\n",
       "      border-right-color: var(--fill-color);\n",
       "      border-bottom-color: var(--fill-color);\n",
       "    }\n",
       "    90% {\n",
       "      border-color: transparent;\n",
       "      border-bottom-color: var(--fill-color);\n",
       "    }\n",
       "  }\n",
       "</style>\n",
       "\n",
       "  <script>\n",
       "    async function quickchart(key) {\n",
       "      const quickchartButtonEl =\n",
       "        document.querySelector('#' + key + ' button');\n",
       "      quickchartButtonEl.disabled = true;  // To prevent multiple clicks.\n",
       "      quickchartButtonEl.classList.add('colab-df-spinner');\n",
       "      try {\n",
       "        const charts = await google.colab.kernel.invokeFunction(\n",
       "            'suggestCharts', [key], {});\n",
       "      } catch (error) {\n",
       "        console.error('Error during call to suggestCharts:', error);\n",
       "      }\n",
       "      quickchartButtonEl.classList.remove('colab-df-spinner');\n",
       "      quickchartButtonEl.classList.add('colab-df-quickchart-complete');\n",
       "    }\n",
       "    (() => {\n",
       "      let quickchartButtonEl =\n",
       "        document.querySelector('#df-dc2e4298-497b-4a79-b58c-ec81b86171e2 button');\n",
       "      quickchartButtonEl.style.display =\n",
       "        google.colab.kernel.accessAllowed ? 'block' : 'none';\n",
       "    })();\n",
       "  </script>\n",
       "</div>\n",
       "\n",
       "    </div>\n",
       "  </div>\n"
      ],
      "text/plain": [
       "                                           question1  \\\n",
       "0            How can I use auction sites as a hobby?   \n",
       "1  What is the first law of thermodynamics and wh...   \n",
       "2                     What defines a shallow person?   \n",
       "3            How do you improve your writing skills?   \n",
       "4      I think my friends are jealous. What do I do?   \n",
       "\n",
       "                                           question2  is_duplicate  \\\n",
       "0  THE best & POWERFUL ASTROLOGER in Singapore-GU...           0.0   \n",
       "1  What are the applications of the first law of ...           0.0   \n",
       "2  How do you define someone as being a good person?           0.0   \n",
       "3                How do I improve my writing skills?           1.0   \n",
       "4          My friends are jealous, What should I do?           0.0   \n",
       "\n",
       "                             q1                                      q2  \n",
       "0            auction site hobby  best powerful astrologer singaporeguru  \n",
       "1  first thermodynamics example        application first thermodynamics  \n",
       "2        defines shallow person              define someone good person  \n",
       "3           improve write skill                     improve write skill  \n",
       "4          think friend jealous                          friend jealous  "
      ]
     },
     "execution_count": 54,
     "metadata": {},
     "output_type": "execute_result"
    }
   ],
   "source": [
    "train_data.head()"
   ]
  },
  {
   "cell_type": "code",
   "execution_count": 102,
   "metadata": {
    "id": "LhuzQSW39zf4"
   },
   "outputs": [],
   "source": [
    "from sklearn.feature_extraction.text import TfidfVectorizer"
   ]
  },
  {
   "cell_type": "code",
   "execution_count": 103,
   "metadata": {
    "id": "meM0b15B-R6s"
   },
   "outputs": [],
   "source": [
    "from sklearn.svm import SVC\n",
    "from sklearn.metrics import classification_report, accuracy_score\n"
   ]
  },
  {
   "cell_type": "code",
   "execution_count": 112,
   "metadata": {
    "id": "IKI7hsL2_L4s"
   },
   "outputs": [],
   "source": [
    "vectorizer = TfidfVectorizer()\n",
    "a = vectorizer.fit_transform(train_data['q1'])\n",
    "b = vectorizer.fit_transform(train_data['q2'])\n",
    "A=vectorizer.fit_transform(test_data['q1'])\n",
    "B=vectorizer.fit_transform(test_data['q2'])\n",
    "A = A[:, :1783]\n",
    "B = B[:, :1738]"
   ]
  },
  {
   "cell_type": "code",
   "execution_count": 124,
   "metadata": {
    "colab": {
     "base_uri": "https://localhost:8080/"
    },
    "id": "rWO3yFbGAw8E",
    "outputId": "4d81472e-732b-4b77-ee80-7dd10ea30f61"
   },
   "outputs": [
    {
     "name": "stdout",
     "output_type": "stream",
     "text": [
      "(723, 3521)\n"
     ]
    }
   ],
   "source": [
    "combined_tfidf = np.hstack([a.toarray(), b.toarray()])\n",
    "\n",
    "# Print the shape of the combined TF-IDF vectors\n",
    "print(combined_tfidf.shape)\n",
    "\n",
    "# Convert the combined TF-IDF vectors to a DataFrame if needed\n",
    "combined_tfidf_df = pd.DataFrame(combined_tfidf)\n"
   ]
  },
  {
   "cell_type": "code",
   "execution_count": 114,
   "metadata": {
    "colab": {
     "base_uri": "https://localhost:8080/"
    },
    "id": "CeeUo7-rCdDl",
    "outputId": "01400151-f476-4769-ccc1-ff9533581f1b"
   },
   "outputs": [
    {
     "data": {
      "text/plain": [
       "(723,)"
      ]
     },
     "execution_count": 114,
     "metadata": {},
     "output_type": "execute_result"
    }
   ],
   "source": [
    "y = train_data['is_duplicate']\n",
    "y.shape"
   ]
  },
  {
   "cell_type": "code",
   "execution_count": 115,
   "metadata": {
    "colab": {
     "base_uri": "https://localhost:8080/"
    },
    "id": "RGIXfj2LBT1z",
    "outputId": "31dc4f22-fc72-4d19-f719-760fcfa3107f"
   },
   "outputs": [
    {
     "name": "stdout",
     "output_type": "stream",
     "text": [
      "Accuracy: 0.6896551724137931\n",
      "              precision    recall  f1-score   support\n",
      "\n",
      "         0.0       0.70      0.84      0.77        88\n",
      "         1.0       0.65      0.46      0.54        57\n",
      "\n",
      "    accuracy                           0.69       145\n",
      "   macro avg       0.68      0.65      0.65       145\n",
      "weighted avg       0.68      0.69      0.68       145\n",
      "\n"
     ]
    }
   ],
   "source": [
    "X_train, X_test, y_train, y_test = train_test_split(combined_tfidf_df, y, test_size=0.2, random_state=42)\n",
    "\n",
    "# Initialize and train the SVM model\n",
    "svm = SVC(kernel='linear')\n",
    "svm.fit(X_train, y_train)\n",
    "\n",
    "# Make predictions on the test data\n",
    "y_pred = svm.predict(X_test)\n",
    "\n",
    "# Print evaluation metrics\n",
    "print(f'Accuracy: {accuracy_score(y_test, y_pred)}')\n",
    "print(classification_report(y_test, y_pred))"
   ]
  },
  {
   "cell_type": "code",
   "execution_count": 118,
   "metadata": {
    "id": "fDLw4xkGEb9Y"
   },
   "outputs": [],
   "source": [
    "combined_v = np.hstack([A.toarray(), B.toarray()])\n",
    "test = pd.DataFrame(combined_v)"
   ]
  },
  {
   "cell_type": "code",
   "execution_count": 128,
   "metadata": {
    "colab": {
     "base_uri": "https://localhost:8080/"
    },
    "id": "5D9l1DHvEvzt",
    "outputId": "074c54b2-9903-41aa-fd7d-648db3ec2c64"
   },
   "outputs": [
    {
     "data": {
      "text/plain": [
       "array([0., 0., 0., 0., 0., 0., 0., 0., 0., 0., 0., 0., 0., 0., 0., 0., 1.,\n",
       "       0., 0., 0., 0., 0., 0., 0., 0., 0., 0., 0., 1., 0., 0., 0., 0., 0.,\n",
       "       0., 0., 1., 0., 0., 0., 0., 0., 0., 0., 0., 0., 0., 1., 0., 0.])"
      ]
     },
     "execution_count": 128,
     "metadata": {},
     "output_type": "execute_result"
    }
   ],
   "source": [
    "prediction = svm.predict(test[:50])\n",
    "prediction"
   ]
  },
  {
   "cell_type": "code",
   "execution_count": 165,
   "metadata": {
    "colab": {
     "base_uri": "https://localhost:8080/"
    },
    "id": "xoDpNSVIlXZJ",
    "outputId": "3b08b9e8-ba14-414f-9580-c00ecc5fcb88"
   },
   "outputs": [
    {
     "name": "stdout",
     "output_type": "stream",
     "text": [
      "Collecting mtranslate\n",
      "  Downloading mtranslate-1.8.tar.gz (2.4 kB)\n",
      "  Preparing metadata (setup.py) ... \u001b[?25l\u001b[?25hdone\n",
      "Building wheels for collected packages: mtranslate\n",
      "  Building wheel for mtranslate (setup.py) ... \u001b[?25l\u001b[?25hdone\n",
      "  Created wheel for mtranslate: filename=mtranslate-1.8-py3-none-any.whl size=3672 sha256=2e020488cf0659ce0572096e04e927dc455a240e641cf1688157cd661d401078\n",
      "  Stored in directory: /root/.cache/pip/wheels/c2/04/15/d7654c2c4a9a52e09922967593f3278fed66059be65ca671ea\n",
      "Successfully built mtranslate\n",
      "Installing collected packages: mtranslate\n",
      "Successfully installed mtranslate-1.8\n"
     ]
    }
   ],
   "source": [
    "!pip install mtranslate\n"
   ]
  },
  {
   "cell_type": "code",
   "execution_count": 169,
   "metadata": {
    "colab": {
     "base_uri": "https://localhost:8080/"
    },
    "id": "LvR5CJ227WRw",
    "outputId": "5139e7ff-ad99-4f17-ed37-203d6e393d74"
   },
   "outputs": [
    {
     "name": "stdout",
     "output_type": "stream",
     "text": [
      "سب کو سلام\n"
     ]
    }
   ],
   "source": [
    "from mtranslate import translate\n",
    "\n",
    "\n",
    "text = \"hi everyone\"\n",
    "language = 'ur'\n",
    "result=translate(text,language)\n",
    "print(result)"
   ]
  },
  {
   "cell_type": "code",
   "execution_count": null,
   "metadata": {
    "id": "igc1wPI_ifCu"
   },
   "outputs": [],
   "source": [
    "from mtranslate import translate\n",
    "def predict_duplicates(question1, question2):\n",
    "    text1=question1\n",
    "    text2=question2\n",
    "    language=\"en\"\n",
    "    result1=translate(text1,language)\n",
    "    result2=translate(text2,language)\n",
    "    print(result1)\n",
    "    # Vectorize the user-input questions\n",
    "    A= vectorizer.transform([result1])\n",
    "    B= vectorizer.transform([result2])\n",
    "\n",
    "    A = A[:, :1783]\n",
    "    B = B[:, :1738]\n",
    "\n",
    "\n",
    "    # Combine the vectors to predict as a pair\n",
    "    combined_tfidf = np.hstack([A.toarray(), B.toarray()])\n",
    "\n",
    "    # Predict using the SVM model\n",
    "    prediction = svm.predict(combined_tfidf)\n",
    "\n",
    "    # Print the prediction\n",
    "    if prediction[0] == 1:\n",
    "        print(\"These questions are duplicates.\")\n",
    "    else:\n",
    "        print(\"These questions are not duplicates.\")\n",
    "\n",
    "# Example usage: Taking input from the user\n",
    "question1 = input(\"Enter the first question: \")\n",
    "question2 = input(\"Enter the second question: \")\n",
    "\n",
    "# Predict duplicates\n",
    "predict_duplicates(question1, question2)"
   ]
  },
  {
   "cell_type": "code",
   "execution_count": null,
   "metadata": {
    "id": "O3Taz3KwcoLT"
   },
   "outputs": [],
   "source": []
  }
 ],
 "metadata": {
  "colab": {
   "provenance": []
  },
  "kernelspec": {
   "display_name": "Python 3 (ipykernel)",
   "language": "python",
   "name": "python3"
  },
  "language_info": {
   "codemirror_mode": {
    "name": "ipython",
    "version": 3
   },
   "file_extension": ".py",
   "mimetype": "text/x-python",
   "name": "python",
   "nbconvert_exporter": "python",
   "pygments_lexer": "ipython3",
   "version": "3.8.10"
  },
  "papermill": {
   "default_parameters": {},
   "duration": 257.6154,
   "end_time": "2021-04-30T14:20:16.194358",
   "environment_variables": {},
   "exception": null,
   "input_path": "__notebook__.ipynb",
   "output_path": "__notebook__.ipynb",
   "parameters": {},
   "start_time": "2021-04-30T14:15:58.578958",
   "version": "2.2.2"
  }
 },
 "nbformat": 4,
 "nbformat_minor": 0
}
